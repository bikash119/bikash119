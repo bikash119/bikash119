{
  "nbformat": 4,
  "nbformat_minor": 0,
  "metadata": {
    "colab": {
      "provenance": [],
      "gpuType": "T4",
      "authorship_tag": "ABX9TyNS6TyVbvWyKnZlEb90GqVt",
      "include_colab_link": true
    },
    "kernelspec": {
      "name": "python3",
      "display_name": "Python 3"
    },
    "language_info": {
      "name": "python"
    },
    "widgets": {
      "application/vnd.jupyter.widget-state+json": {
        "aade06d8530b499cb8af8b44ea0c9f49": {
          "model_module": "@jupyter-widgets/controls",
          "model_name": "HBoxModel",
          "model_module_version": "1.5.0",
          "state": {
            "_dom_classes": [],
            "_model_module": "@jupyter-widgets/controls",
            "_model_module_version": "1.5.0",
            "_model_name": "HBoxModel",
            "_view_count": null,
            "_view_module": "@jupyter-widgets/controls",
            "_view_module_version": "1.5.0",
            "_view_name": "HBoxView",
            "box_style": "",
            "children": [
              "IPY_MODEL_9d665c24fc3e423db264a90be65e7346",
              "IPY_MODEL_00915e45ad974fee94d6b4d7429ce843",
              "IPY_MODEL_8b51c009134e4600aad71f146af20c05"
            ],
            "layout": "IPY_MODEL_9154d985fdd74f8e98754571457f0d05"
          }
        },
        "9d665c24fc3e423db264a90be65e7346": {
          "model_module": "@jupyter-widgets/controls",
          "model_name": "HTMLModel",
          "model_module_version": "1.5.0",
          "state": {
            "_dom_classes": [],
            "_model_module": "@jupyter-widgets/controls",
            "_model_module_version": "1.5.0",
            "_model_name": "HTMLModel",
            "_view_count": null,
            "_view_module": "@jupyter-widgets/controls",
            "_view_module_version": "1.5.0",
            "_view_name": "HTMLView",
            "description": "",
            "description_tooltip": null,
            "layout": "IPY_MODEL_444e6d6cbad64e408cab3b4be6a9e7dc",
            "placeholder": "​",
            "style": "IPY_MODEL_788ddd321a994ef6bb1b783475a88aa4",
            "value": "100%"
          }
        },
        "00915e45ad974fee94d6b4d7429ce843": {
          "model_module": "@jupyter-widgets/controls",
          "model_name": "FloatProgressModel",
          "model_module_version": "1.5.0",
          "state": {
            "_dom_classes": [],
            "_model_module": "@jupyter-widgets/controls",
            "_model_module_version": "1.5.0",
            "_model_name": "FloatProgressModel",
            "_view_count": null,
            "_view_module": "@jupyter-widgets/controls",
            "_view_module_version": "1.5.0",
            "_view_name": "ProgressView",
            "bar_style": "success",
            "description": "",
            "description_tooltip": null,
            "layout": "IPY_MODEL_f9acf76101894251b23d76d0a7e93aec",
            "max": 3,
            "min": 0,
            "orientation": "horizontal",
            "style": "IPY_MODEL_7792c19d49014309b7a2192959d121ce",
            "value": 3
          }
        },
        "8b51c009134e4600aad71f146af20c05": {
          "model_module": "@jupyter-widgets/controls",
          "model_name": "HTMLModel",
          "model_module_version": "1.5.0",
          "state": {
            "_dom_classes": [],
            "_model_module": "@jupyter-widgets/controls",
            "_model_module_version": "1.5.0",
            "_model_name": "HTMLModel",
            "_view_count": null,
            "_view_module": "@jupyter-widgets/controls",
            "_view_module_version": "1.5.0",
            "_view_name": "HTMLView",
            "description": "",
            "description_tooltip": null,
            "layout": "IPY_MODEL_8bf9ffa7b2ef43cb9f21afd901faaf97",
            "placeholder": "​",
            "style": "IPY_MODEL_bb503bf969e849f3b29edefba7cfb6c3",
            "value": " 3/3 [00:31&lt;00:00, 10.42s/it]"
          }
        },
        "9154d985fdd74f8e98754571457f0d05": {
          "model_module": "@jupyter-widgets/base",
          "model_name": "LayoutModel",
          "model_module_version": "1.2.0",
          "state": {
            "_model_module": "@jupyter-widgets/base",
            "_model_module_version": "1.2.0",
            "_model_name": "LayoutModel",
            "_view_count": null,
            "_view_module": "@jupyter-widgets/base",
            "_view_module_version": "1.2.0",
            "_view_name": "LayoutView",
            "align_content": null,
            "align_items": null,
            "align_self": null,
            "border": null,
            "bottom": null,
            "display": null,
            "flex": null,
            "flex_flow": null,
            "grid_area": null,
            "grid_auto_columns": null,
            "grid_auto_flow": null,
            "grid_auto_rows": null,
            "grid_column": null,
            "grid_gap": null,
            "grid_row": null,
            "grid_template_areas": null,
            "grid_template_columns": null,
            "grid_template_rows": null,
            "height": null,
            "justify_content": null,
            "justify_items": null,
            "left": null,
            "margin": null,
            "max_height": null,
            "max_width": null,
            "min_height": null,
            "min_width": null,
            "object_fit": null,
            "object_position": null,
            "order": null,
            "overflow": null,
            "overflow_x": null,
            "overflow_y": null,
            "padding": null,
            "right": null,
            "top": null,
            "visibility": null,
            "width": null
          }
        },
        "444e6d6cbad64e408cab3b4be6a9e7dc": {
          "model_module": "@jupyter-widgets/base",
          "model_name": "LayoutModel",
          "model_module_version": "1.2.0",
          "state": {
            "_model_module": "@jupyter-widgets/base",
            "_model_module_version": "1.2.0",
            "_model_name": "LayoutModel",
            "_view_count": null,
            "_view_module": "@jupyter-widgets/base",
            "_view_module_version": "1.2.0",
            "_view_name": "LayoutView",
            "align_content": null,
            "align_items": null,
            "align_self": null,
            "border": null,
            "bottom": null,
            "display": null,
            "flex": null,
            "flex_flow": null,
            "grid_area": null,
            "grid_auto_columns": null,
            "grid_auto_flow": null,
            "grid_auto_rows": null,
            "grid_column": null,
            "grid_gap": null,
            "grid_row": null,
            "grid_template_areas": null,
            "grid_template_columns": null,
            "grid_template_rows": null,
            "height": null,
            "justify_content": null,
            "justify_items": null,
            "left": null,
            "margin": null,
            "max_height": null,
            "max_width": null,
            "min_height": null,
            "min_width": null,
            "object_fit": null,
            "object_position": null,
            "order": null,
            "overflow": null,
            "overflow_x": null,
            "overflow_y": null,
            "padding": null,
            "right": null,
            "top": null,
            "visibility": null,
            "width": null
          }
        },
        "788ddd321a994ef6bb1b783475a88aa4": {
          "model_module": "@jupyter-widgets/controls",
          "model_name": "DescriptionStyleModel",
          "model_module_version": "1.5.0",
          "state": {
            "_model_module": "@jupyter-widgets/controls",
            "_model_module_version": "1.5.0",
            "_model_name": "DescriptionStyleModel",
            "_view_count": null,
            "_view_module": "@jupyter-widgets/base",
            "_view_module_version": "1.2.0",
            "_view_name": "StyleView",
            "description_width": ""
          }
        },
        "f9acf76101894251b23d76d0a7e93aec": {
          "model_module": "@jupyter-widgets/base",
          "model_name": "LayoutModel",
          "model_module_version": "1.2.0",
          "state": {
            "_model_module": "@jupyter-widgets/base",
            "_model_module_version": "1.2.0",
            "_model_name": "LayoutModel",
            "_view_count": null,
            "_view_module": "@jupyter-widgets/base",
            "_view_module_version": "1.2.0",
            "_view_name": "LayoutView",
            "align_content": null,
            "align_items": null,
            "align_self": null,
            "border": null,
            "bottom": null,
            "display": null,
            "flex": null,
            "flex_flow": null,
            "grid_area": null,
            "grid_auto_columns": null,
            "grid_auto_flow": null,
            "grid_auto_rows": null,
            "grid_column": null,
            "grid_gap": null,
            "grid_row": null,
            "grid_template_areas": null,
            "grid_template_columns": null,
            "grid_template_rows": null,
            "height": null,
            "justify_content": null,
            "justify_items": null,
            "left": null,
            "margin": null,
            "max_height": null,
            "max_width": null,
            "min_height": null,
            "min_width": null,
            "object_fit": null,
            "object_position": null,
            "order": null,
            "overflow": null,
            "overflow_x": null,
            "overflow_y": null,
            "padding": null,
            "right": null,
            "top": null,
            "visibility": null,
            "width": null
          }
        },
        "7792c19d49014309b7a2192959d121ce": {
          "model_module": "@jupyter-widgets/controls",
          "model_name": "ProgressStyleModel",
          "model_module_version": "1.5.0",
          "state": {
            "_model_module": "@jupyter-widgets/controls",
            "_model_module_version": "1.5.0",
            "_model_name": "ProgressStyleModel",
            "_view_count": null,
            "_view_module": "@jupyter-widgets/base",
            "_view_module_version": "1.2.0",
            "_view_name": "StyleView",
            "bar_color": null,
            "description_width": ""
          }
        },
        "8bf9ffa7b2ef43cb9f21afd901faaf97": {
          "model_module": "@jupyter-widgets/base",
          "model_name": "LayoutModel",
          "model_module_version": "1.2.0",
          "state": {
            "_model_module": "@jupyter-widgets/base",
            "_model_module_version": "1.2.0",
            "_model_name": "LayoutModel",
            "_view_count": null,
            "_view_module": "@jupyter-widgets/base",
            "_view_module_version": "1.2.0",
            "_view_name": "LayoutView",
            "align_content": null,
            "align_items": null,
            "align_self": null,
            "border": null,
            "bottom": null,
            "display": null,
            "flex": null,
            "flex_flow": null,
            "grid_area": null,
            "grid_auto_columns": null,
            "grid_auto_flow": null,
            "grid_auto_rows": null,
            "grid_column": null,
            "grid_gap": null,
            "grid_row": null,
            "grid_template_areas": null,
            "grid_template_columns": null,
            "grid_template_rows": null,
            "height": null,
            "justify_content": null,
            "justify_items": null,
            "left": null,
            "margin": null,
            "max_height": null,
            "max_width": null,
            "min_height": null,
            "min_width": null,
            "object_fit": null,
            "object_position": null,
            "order": null,
            "overflow": null,
            "overflow_x": null,
            "overflow_y": null,
            "padding": null,
            "right": null,
            "top": null,
            "visibility": null,
            "width": null
          }
        },
        "bb503bf969e849f3b29edefba7cfb6c3": {
          "model_module": "@jupyter-widgets/controls",
          "model_name": "DescriptionStyleModel",
          "model_module_version": "1.5.0",
          "state": {
            "_model_module": "@jupyter-widgets/controls",
            "_model_module_version": "1.5.0",
            "_model_name": "DescriptionStyleModel",
            "_view_count": null,
            "_view_module": "@jupyter-widgets/base",
            "_view_module_version": "1.2.0",
            "_view_name": "StyleView",
            "description_width": ""
          }
        },
        "61934a557bb543f0a2c3ef5d8f3e81e7": {
          "model_module": "@jupyter-widgets/controls",
          "model_name": "HBoxModel",
          "model_module_version": "1.5.0",
          "state": {
            "_dom_classes": [],
            "_model_module": "@jupyter-widgets/controls",
            "_model_module_version": "1.5.0",
            "_model_name": "HBoxModel",
            "_view_count": null,
            "_view_module": "@jupyter-widgets/controls",
            "_view_module_version": "1.5.0",
            "_view_name": "HBoxView",
            "box_style": "",
            "children": [
              "IPY_MODEL_16adf72a5a564dcc827c0dfb0e97d122",
              "IPY_MODEL_fa7805922caf41959c2e4fc3cd9f6aae",
              "IPY_MODEL_e8673a49eb1c4848aaf786fad5f6ad58"
            ],
            "layout": "IPY_MODEL_0e632bc76ee34f8da1319127bc8c1330"
          }
        },
        "16adf72a5a564dcc827c0dfb0e97d122": {
          "model_module": "@jupyter-widgets/controls",
          "model_name": "HTMLModel",
          "model_module_version": "1.5.0",
          "state": {
            "_dom_classes": [],
            "_model_module": "@jupyter-widgets/controls",
            "_model_module_version": "1.5.0",
            "_model_name": "HTMLModel",
            "_view_count": null,
            "_view_module": "@jupyter-widgets/controls",
            "_view_module_version": "1.5.0",
            "_view_name": "HTMLView",
            "description": "",
            "description_tooltip": null,
            "layout": "IPY_MODEL_6c0d83347f7e40e09430158e7dd1eb29",
            "placeholder": "​",
            "style": "IPY_MODEL_2045abe0533648b79b3762e061f16e66",
            "value": "100%"
          }
        },
        "fa7805922caf41959c2e4fc3cd9f6aae": {
          "model_module": "@jupyter-widgets/controls",
          "model_name": "FloatProgressModel",
          "model_module_version": "1.5.0",
          "state": {
            "_dom_classes": [],
            "_model_module": "@jupyter-widgets/controls",
            "_model_module_version": "1.5.0",
            "_model_name": "FloatProgressModel",
            "_view_count": null,
            "_view_module": "@jupyter-widgets/controls",
            "_view_module_version": "1.5.0",
            "_view_name": "ProgressView",
            "bar_style": "success",
            "description": "",
            "description_tooltip": null,
            "layout": "IPY_MODEL_60b0e08820d748a09dd37f602643246e",
            "max": 3,
            "min": 0,
            "orientation": "horizontal",
            "style": "IPY_MODEL_9151beaaa29844869a9610454526188b",
            "value": 3
          }
        },
        "e8673a49eb1c4848aaf786fad5f6ad58": {
          "model_module": "@jupyter-widgets/controls",
          "model_name": "HTMLModel",
          "model_module_version": "1.5.0",
          "state": {
            "_dom_classes": [],
            "_model_module": "@jupyter-widgets/controls",
            "_model_module_version": "1.5.0",
            "_model_name": "HTMLModel",
            "_view_count": null,
            "_view_module": "@jupyter-widgets/controls",
            "_view_module_version": "1.5.0",
            "_view_name": "HTMLView",
            "description": "",
            "description_tooltip": null,
            "layout": "IPY_MODEL_396867e25a1f4d9eb9b5a4aff2248db5",
            "placeholder": "​",
            "style": "IPY_MODEL_634aca10f99e4da5a9310efbb6461706",
            "value": " 3/3 [00:38&lt;00:00, 12.50s/it]"
          }
        },
        "0e632bc76ee34f8da1319127bc8c1330": {
          "model_module": "@jupyter-widgets/base",
          "model_name": "LayoutModel",
          "model_module_version": "1.2.0",
          "state": {
            "_model_module": "@jupyter-widgets/base",
            "_model_module_version": "1.2.0",
            "_model_name": "LayoutModel",
            "_view_count": null,
            "_view_module": "@jupyter-widgets/base",
            "_view_module_version": "1.2.0",
            "_view_name": "LayoutView",
            "align_content": null,
            "align_items": null,
            "align_self": null,
            "border": null,
            "bottom": null,
            "display": null,
            "flex": null,
            "flex_flow": null,
            "grid_area": null,
            "grid_auto_columns": null,
            "grid_auto_flow": null,
            "grid_auto_rows": null,
            "grid_column": null,
            "grid_gap": null,
            "grid_row": null,
            "grid_template_areas": null,
            "grid_template_columns": null,
            "grid_template_rows": null,
            "height": null,
            "justify_content": null,
            "justify_items": null,
            "left": null,
            "margin": null,
            "max_height": null,
            "max_width": null,
            "min_height": null,
            "min_width": null,
            "object_fit": null,
            "object_position": null,
            "order": null,
            "overflow": null,
            "overflow_x": null,
            "overflow_y": null,
            "padding": null,
            "right": null,
            "top": null,
            "visibility": null,
            "width": null
          }
        },
        "6c0d83347f7e40e09430158e7dd1eb29": {
          "model_module": "@jupyter-widgets/base",
          "model_name": "LayoutModel",
          "model_module_version": "1.2.0",
          "state": {
            "_model_module": "@jupyter-widgets/base",
            "_model_module_version": "1.2.0",
            "_model_name": "LayoutModel",
            "_view_count": null,
            "_view_module": "@jupyter-widgets/base",
            "_view_module_version": "1.2.0",
            "_view_name": "LayoutView",
            "align_content": null,
            "align_items": null,
            "align_self": null,
            "border": null,
            "bottom": null,
            "display": null,
            "flex": null,
            "flex_flow": null,
            "grid_area": null,
            "grid_auto_columns": null,
            "grid_auto_flow": null,
            "grid_auto_rows": null,
            "grid_column": null,
            "grid_gap": null,
            "grid_row": null,
            "grid_template_areas": null,
            "grid_template_columns": null,
            "grid_template_rows": null,
            "height": null,
            "justify_content": null,
            "justify_items": null,
            "left": null,
            "margin": null,
            "max_height": null,
            "max_width": null,
            "min_height": null,
            "min_width": null,
            "object_fit": null,
            "object_position": null,
            "order": null,
            "overflow": null,
            "overflow_x": null,
            "overflow_y": null,
            "padding": null,
            "right": null,
            "top": null,
            "visibility": null,
            "width": null
          }
        },
        "2045abe0533648b79b3762e061f16e66": {
          "model_module": "@jupyter-widgets/controls",
          "model_name": "DescriptionStyleModel",
          "model_module_version": "1.5.0",
          "state": {
            "_model_module": "@jupyter-widgets/controls",
            "_model_module_version": "1.5.0",
            "_model_name": "DescriptionStyleModel",
            "_view_count": null,
            "_view_module": "@jupyter-widgets/base",
            "_view_module_version": "1.2.0",
            "_view_name": "StyleView",
            "description_width": ""
          }
        },
        "60b0e08820d748a09dd37f602643246e": {
          "model_module": "@jupyter-widgets/base",
          "model_name": "LayoutModel",
          "model_module_version": "1.2.0",
          "state": {
            "_model_module": "@jupyter-widgets/base",
            "_model_module_version": "1.2.0",
            "_model_name": "LayoutModel",
            "_view_count": null,
            "_view_module": "@jupyter-widgets/base",
            "_view_module_version": "1.2.0",
            "_view_name": "LayoutView",
            "align_content": null,
            "align_items": null,
            "align_self": null,
            "border": null,
            "bottom": null,
            "display": null,
            "flex": null,
            "flex_flow": null,
            "grid_area": null,
            "grid_auto_columns": null,
            "grid_auto_flow": null,
            "grid_auto_rows": null,
            "grid_column": null,
            "grid_gap": null,
            "grid_row": null,
            "grid_template_areas": null,
            "grid_template_columns": null,
            "grid_template_rows": null,
            "height": null,
            "justify_content": null,
            "justify_items": null,
            "left": null,
            "margin": null,
            "max_height": null,
            "max_width": null,
            "min_height": null,
            "min_width": null,
            "object_fit": null,
            "object_position": null,
            "order": null,
            "overflow": null,
            "overflow_x": null,
            "overflow_y": null,
            "padding": null,
            "right": null,
            "top": null,
            "visibility": null,
            "width": null
          }
        },
        "9151beaaa29844869a9610454526188b": {
          "model_module": "@jupyter-widgets/controls",
          "model_name": "ProgressStyleModel",
          "model_module_version": "1.5.0",
          "state": {
            "_model_module": "@jupyter-widgets/controls",
            "_model_module_version": "1.5.0",
            "_model_name": "ProgressStyleModel",
            "_view_count": null,
            "_view_module": "@jupyter-widgets/base",
            "_view_module_version": "1.2.0",
            "_view_name": "StyleView",
            "bar_color": null,
            "description_width": ""
          }
        },
        "396867e25a1f4d9eb9b5a4aff2248db5": {
          "model_module": "@jupyter-widgets/base",
          "model_name": "LayoutModel",
          "model_module_version": "1.2.0",
          "state": {
            "_model_module": "@jupyter-widgets/base",
            "_model_module_version": "1.2.0",
            "_model_name": "LayoutModel",
            "_view_count": null,
            "_view_module": "@jupyter-widgets/base",
            "_view_module_version": "1.2.0",
            "_view_name": "LayoutView",
            "align_content": null,
            "align_items": null,
            "align_self": null,
            "border": null,
            "bottom": null,
            "display": null,
            "flex": null,
            "flex_flow": null,
            "grid_area": null,
            "grid_auto_columns": null,
            "grid_auto_flow": null,
            "grid_auto_rows": null,
            "grid_column": null,
            "grid_gap": null,
            "grid_row": null,
            "grid_template_areas": null,
            "grid_template_columns": null,
            "grid_template_rows": null,
            "height": null,
            "justify_content": null,
            "justify_items": null,
            "left": null,
            "margin": null,
            "max_height": null,
            "max_width": null,
            "min_height": null,
            "min_width": null,
            "object_fit": null,
            "object_position": null,
            "order": null,
            "overflow": null,
            "overflow_x": null,
            "overflow_y": null,
            "padding": null,
            "right": null,
            "top": null,
            "visibility": null,
            "width": null
          }
        },
        "634aca10f99e4da5a9310efbb6461706": {
          "model_module": "@jupyter-widgets/controls",
          "model_name": "DescriptionStyleModel",
          "model_module_version": "1.5.0",
          "state": {
            "_model_module": "@jupyter-widgets/controls",
            "_model_module_version": "1.5.0",
            "_model_name": "DescriptionStyleModel",
            "_view_count": null,
            "_view_module": "@jupyter-widgets/base",
            "_view_module_version": "1.2.0",
            "_view_name": "StyleView",
            "description_width": ""
          }
        },
        "31c3ee4cff9c4878a0b8206dbcb10b3a": {
          "model_module": "@jupyter-widgets/controls",
          "model_name": "HBoxModel",
          "model_module_version": "1.5.0",
          "state": {
            "_dom_classes": [],
            "_model_module": "@jupyter-widgets/controls",
            "_model_module_version": "1.5.0",
            "_model_name": "HBoxModel",
            "_view_count": null,
            "_view_module": "@jupyter-widgets/controls",
            "_view_module_version": "1.5.0",
            "_view_name": "HBoxView",
            "box_style": "",
            "children": [
              "IPY_MODEL_bd4d8dde76244d3c825b0ccec932109b",
              "IPY_MODEL_f37ce74bef0e4dbc923c8c8d25b26659",
              "IPY_MODEL_225fafd96237465dbe20e4cfa4e659b9"
            ],
            "layout": "IPY_MODEL_d5faf47da0284df3b74405c1687b2f5d"
          }
        },
        "bd4d8dde76244d3c825b0ccec932109b": {
          "model_module": "@jupyter-widgets/controls",
          "model_name": "HTMLModel",
          "model_module_version": "1.5.0",
          "state": {
            "_dom_classes": [],
            "_model_module": "@jupyter-widgets/controls",
            "_model_module_version": "1.5.0",
            "_model_name": "HTMLModel",
            "_view_count": null,
            "_view_module": "@jupyter-widgets/controls",
            "_view_module_version": "1.5.0",
            "_view_name": "HTMLView",
            "description": "",
            "description_tooltip": null,
            "layout": "IPY_MODEL_e068d0f159cf44b298618620a71115fd",
            "placeholder": "​",
            "style": "IPY_MODEL_b66bfb93b6834f8f9e1937a021859df9",
            "value": "100%"
          }
        },
        "f37ce74bef0e4dbc923c8c8d25b26659": {
          "model_module": "@jupyter-widgets/controls",
          "model_name": "FloatProgressModel",
          "model_module_version": "1.5.0",
          "state": {
            "_dom_classes": [],
            "_model_module": "@jupyter-widgets/controls",
            "_model_module_version": "1.5.0",
            "_model_name": "FloatProgressModel",
            "_view_count": null,
            "_view_module": "@jupyter-widgets/controls",
            "_view_module_version": "1.5.0",
            "_view_name": "ProgressView",
            "bar_style": "success",
            "description": "",
            "description_tooltip": null,
            "layout": "IPY_MODEL_87ef7947c41643768cbc858c8e02035f",
            "max": 3,
            "min": 0,
            "orientation": "horizontal",
            "style": "IPY_MODEL_9d4851b0c5d14261b66806179ecc32d9",
            "value": 3
          }
        },
        "225fafd96237465dbe20e4cfa4e659b9": {
          "model_module": "@jupyter-widgets/controls",
          "model_name": "HTMLModel",
          "model_module_version": "1.5.0",
          "state": {
            "_dom_classes": [],
            "_model_module": "@jupyter-widgets/controls",
            "_model_module_version": "1.5.0",
            "_model_name": "HTMLModel",
            "_view_count": null,
            "_view_module": "@jupyter-widgets/controls",
            "_view_module_version": "1.5.0",
            "_view_name": "HTMLView",
            "description": "",
            "description_tooltip": null,
            "layout": "IPY_MODEL_993481b6b73345c69d24630015fd5760",
            "placeholder": "​",
            "style": "IPY_MODEL_0f03c2b5a6194ef8a6259d0067fd4881",
            "value": " 3/3 [00:41&lt;00:00, 13.79s/it]"
          }
        },
        "d5faf47da0284df3b74405c1687b2f5d": {
          "model_module": "@jupyter-widgets/base",
          "model_name": "LayoutModel",
          "model_module_version": "1.2.0",
          "state": {
            "_model_module": "@jupyter-widgets/base",
            "_model_module_version": "1.2.0",
            "_model_name": "LayoutModel",
            "_view_count": null,
            "_view_module": "@jupyter-widgets/base",
            "_view_module_version": "1.2.0",
            "_view_name": "LayoutView",
            "align_content": null,
            "align_items": null,
            "align_self": null,
            "border": null,
            "bottom": null,
            "display": null,
            "flex": null,
            "flex_flow": null,
            "grid_area": null,
            "grid_auto_columns": null,
            "grid_auto_flow": null,
            "grid_auto_rows": null,
            "grid_column": null,
            "grid_gap": null,
            "grid_row": null,
            "grid_template_areas": null,
            "grid_template_columns": null,
            "grid_template_rows": null,
            "height": null,
            "justify_content": null,
            "justify_items": null,
            "left": null,
            "margin": null,
            "max_height": null,
            "max_width": null,
            "min_height": null,
            "min_width": null,
            "object_fit": null,
            "object_position": null,
            "order": null,
            "overflow": null,
            "overflow_x": null,
            "overflow_y": null,
            "padding": null,
            "right": null,
            "top": null,
            "visibility": null,
            "width": null
          }
        },
        "e068d0f159cf44b298618620a71115fd": {
          "model_module": "@jupyter-widgets/base",
          "model_name": "LayoutModel",
          "model_module_version": "1.2.0",
          "state": {
            "_model_module": "@jupyter-widgets/base",
            "_model_module_version": "1.2.0",
            "_model_name": "LayoutModel",
            "_view_count": null,
            "_view_module": "@jupyter-widgets/base",
            "_view_module_version": "1.2.0",
            "_view_name": "LayoutView",
            "align_content": null,
            "align_items": null,
            "align_self": null,
            "border": null,
            "bottom": null,
            "display": null,
            "flex": null,
            "flex_flow": null,
            "grid_area": null,
            "grid_auto_columns": null,
            "grid_auto_flow": null,
            "grid_auto_rows": null,
            "grid_column": null,
            "grid_gap": null,
            "grid_row": null,
            "grid_template_areas": null,
            "grid_template_columns": null,
            "grid_template_rows": null,
            "height": null,
            "justify_content": null,
            "justify_items": null,
            "left": null,
            "margin": null,
            "max_height": null,
            "max_width": null,
            "min_height": null,
            "min_width": null,
            "object_fit": null,
            "object_position": null,
            "order": null,
            "overflow": null,
            "overflow_x": null,
            "overflow_y": null,
            "padding": null,
            "right": null,
            "top": null,
            "visibility": null,
            "width": null
          }
        },
        "b66bfb93b6834f8f9e1937a021859df9": {
          "model_module": "@jupyter-widgets/controls",
          "model_name": "DescriptionStyleModel",
          "model_module_version": "1.5.0",
          "state": {
            "_model_module": "@jupyter-widgets/controls",
            "_model_module_version": "1.5.0",
            "_model_name": "DescriptionStyleModel",
            "_view_count": null,
            "_view_module": "@jupyter-widgets/base",
            "_view_module_version": "1.2.0",
            "_view_name": "StyleView",
            "description_width": ""
          }
        },
        "87ef7947c41643768cbc858c8e02035f": {
          "model_module": "@jupyter-widgets/base",
          "model_name": "LayoutModel",
          "model_module_version": "1.2.0",
          "state": {
            "_model_module": "@jupyter-widgets/base",
            "_model_module_version": "1.2.0",
            "_model_name": "LayoutModel",
            "_view_count": null,
            "_view_module": "@jupyter-widgets/base",
            "_view_module_version": "1.2.0",
            "_view_name": "LayoutView",
            "align_content": null,
            "align_items": null,
            "align_self": null,
            "border": null,
            "bottom": null,
            "display": null,
            "flex": null,
            "flex_flow": null,
            "grid_area": null,
            "grid_auto_columns": null,
            "grid_auto_flow": null,
            "grid_auto_rows": null,
            "grid_column": null,
            "grid_gap": null,
            "grid_row": null,
            "grid_template_areas": null,
            "grid_template_columns": null,
            "grid_template_rows": null,
            "height": null,
            "justify_content": null,
            "justify_items": null,
            "left": null,
            "margin": null,
            "max_height": null,
            "max_width": null,
            "min_height": null,
            "min_width": null,
            "object_fit": null,
            "object_position": null,
            "order": null,
            "overflow": null,
            "overflow_x": null,
            "overflow_y": null,
            "padding": null,
            "right": null,
            "top": null,
            "visibility": null,
            "width": null
          }
        },
        "9d4851b0c5d14261b66806179ecc32d9": {
          "model_module": "@jupyter-widgets/controls",
          "model_name": "ProgressStyleModel",
          "model_module_version": "1.5.0",
          "state": {
            "_model_module": "@jupyter-widgets/controls",
            "_model_module_version": "1.5.0",
            "_model_name": "ProgressStyleModel",
            "_view_count": null,
            "_view_module": "@jupyter-widgets/base",
            "_view_module_version": "1.2.0",
            "_view_name": "StyleView",
            "bar_color": null,
            "description_width": ""
          }
        },
        "993481b6b73345c69d24630015fd5760": {
          "model_module": "@jupyter-widgets/base",
          "model_name": "LayoutModel",
          "model_module_version": "1.2.0",
          "state": {
            "_model_module": "@jupyter-widgets/base",
            "_model_module_version": "1.2.0",
            "_model_name": "LayoutModel",
            "_view_count": null,
            "_view_module": "@jupyter-widgets/base",
            "_view_module_version": "1.2.0",
            "_view_name": "LayoutView",
            "align_content": null,
            "align_items": null,
            "align_self": null,
            "border": null,
            "bottom": null,
            "display": null,
            "flex": null,
            "flex_flow": null,
            "grid_area": null,
            "grid_auto_columns": null,
            "grid_auto_flow": null,
            "grid_auto_rows": null,
            "grid_column": null,
            "grid_gap": null,
            "grid_row": null,
            "grid_template_areas": null,
            "grid_template_columns": null,
            "grid_template_rows": null,
            "height": null,
            "justify_content": null,
            "justify_items": null,
            "left": null,
            "margin": null,
            "max_height": null,
            "max_width": null,
            "min_height": null,
            "min_width": null,
            "object_fit": null,
            "object_position": null,
            "order": null,
            "overflow": null,
            "overflow_x": null,
            "overflow_y": null,
            "padding": null,
            "right": null,
            "top": null,
            "visibility": null,
            "width": null
          }
        },
        "0f03c2b5a6194ef8a6259d0067fd4881": {
          "model_module": "@jupyter-widgets/controls",
          "model_name": "DescriptionStyleModel",
          "model_module_version": "1.5.0",
          "state": {
            "_model_module": "@jupyter-widgets/controls",
            "_model_module_version": "1.5.0",
            "_model_name": "DescriptionStyleModel",
            "_view_count": null,
            "_view_module": "@jupyter-widgets/base",
            "_view_module_version": "1.2.0",
            "_view_name": "StyleView",
            "description_width": ""
          }
        }
      }
    },
    "accelerator": "GPU"
  },
  "cells": [
    {
      "cell_type": "markdown",
      "metadata": {
        "id": "view-in-github",
        "colab_type": "text"
      },
      "source": [
        "<a href=\"https://colab.research.google.com/github/bikash119/bikash119/blob/main/learnpytorch_03.ipynb\" target=\"_parent\"><img src=\"https://colab.research.google.com/assets/colab-badge.svg\" alt=\"Open In Colab\"/></a>"
      ]
    },
    {
      "cell_type": "markdown",
      "source": [
        "## Learning pytorch torchvision module and building models for image datasets"
      ],
      "metadata": {
        "id": "DmNaKJF9c-j6"
      }
    },
    {
      "cell_type": "code",
      "execution_count": 1,
      "metadata": {
        "colab": {
          "base_uri": "https://localhost:8080/"
        },
        "id": "-5XOLjZ8c46R",
        "outputId": "d25bb0db-47dc-44aa-da8b-41176e47032e"
      },
      "outputs": [
        {
          "output_type": "stream",
          "name": "stdout",
          "text": [
            "Pytorch version : 2.0.1+cu118 \n",
            "torchvision version : 0.15.2+cu118\n"
          ]
        }
      ],
      "source": [
        "import torch\n",
        "from torch import nn\n",
        "\n",
        "import torchvision\n",
        "from torchvision import datasets\n",
        "from torchvision.transforms import ToTensor\n",
        "\n",
        "import matplotlib.pyplot as plt\n",
        "\n",
        "print(f'Pytorch version : {torch.__version__} \\ntorchvision version : {torchvision.__version__}')"
      ]
    },
    {
      "cell_type": "markdown",
      "source": [
        "### Download the FashionMNIST dataset for training "
      ],
      "metadata": {
        "id": "8e-WtPj0eDh_"
      }
    },
    {
      "cell_type": "code",
      "source": [
        "# set up the training data\n",
        "train_data = datasets.FashionMNIST(\n",
        "    root=\"data\",\n",
        "    train=True,\n",
        "    download=True,\n",
        "    transform=ToTensor(),\n",
        "    target_transform=None\n",
        ")\n",
        "\n",
        "#set up the test data\n",
        "\n",
        "test_data = datasets.FashionMNIST(\n",
        "    root=\"data\",\n",
        "    train=False,\n",
        "    download=True,\n",
        "    transform=ToTensor()\n",
        ")"
      ],
      "metadata": {
        "colab": {
          "base_uri": "https://localhost:8080/"
        },
        "id": "_2VwOFF0d1mf",
        "outputId": "b32c99d4-28ba-46a2-aba8-ce11c0096e17"
      },
      "execution_count": 2,
      "outputs": [
        {
          "output_type": "stream",
          "name": "stdout",
          "text": [
            "Downloading http://fashion-mnist.s3-website.eu-central-1.amazonaws.com/train-images-idx3-ubyte.gz\n",
            "Downloading http://fashion-mnist.s3-website.eu-central-1.amazonaws.com/train-images-idx3-ubyte.gz to data/FashionMNIST/raw/train-images-idx3-ubyte.gz\n"
          ]
        },
        {
          "output_type": "stream",
          "name": "stderr",
          "text": [
            "100%|██████████| 26421880/26421880 [00:01<00:00, 15155634.86it/s]\n"
          ]
        },
        {
          "output_type": "stream",
          "name": "stdout",
          "text": [
            "Extracting data/FashionMNIST/raw/train-images-idx3-ubyte.gz to data/FashionMNIST/raw\n",
            "\n",
            "Downloading http://fashion-mnist.s3-website.eu-central-1.amazonaws.com/train-labels-idx1-ubyte.gz\n",
            "Downloading http://fashion-mnist.s3-website.eu-central-1.amazonaws.com/train-labels-idx1-ubyte.gz to data/FashionMNIST/raw/train-labels-idx1-ubyte.gz\n"
          ]
        },
        {
          "output_type": "stream",
          "name": "stderr",
          "text": [
            "100%|██████████| 29515/29515 [00:00<00:00, 273449.92it/s]\n"
          ]
        },
        {
          "output_type": "stream",
          "name": "stdout",
          "text": [
            "Extracting data/FashionMNIST/raw/train-labels-idx1-ubyte.gz to data/FashionMNIST/raw\n",
            "\n",
            "Downloading http://fashion-mnist.s3-website.eu-central-1.amazonaws.com/t10k-images-idx3-ubyte.gz\n",
            "Downloading http://fashion-mnist.s3-website.eu-central-1.amazonaws.com/t10k-images-idx3-ubyte.gz to data/FashionMNIST/raw/t10k-images-idx3-ubyte.gz\n"
          ]
        },
        {
          "output_type": "stream",
          "name": "stderr",
          "text": [
            "100%|██████████| 4422102/4422102 [00:00<00:00, 4988013.83it/s]\n"
          ]
        },
        {
          "output_type": "stream",
          "name": "stdout",
          "text": [
            "Extracting data/FashionMNIST/raw/t10k-images-idx3-ubyte.gz to data/FashionMNIST/raw\n",
            "\n",
            "Downloading http://fashion-mnist.s3-website.eu-central-1.amazonaws.com/t10k-labels-idx1-ubyte.gz\n",
            "Downloading http://fashion-mnist.s3-website.eu-central-1.amazonaws.com/t10k-labels-idx1-ubyte.gz to data/FashionMNIST/raw/t10k-labels-idx1-ubyte.gz\n"
          ]
        },
        {
          "output_type": "stream",
          "name": "stderr",
          "text": [
            "100%|██████████| 5148/5148 [00:00<00:00, 21399679.87it/s]\n"
          ]
        },
        {
          "output_type": "stream",
          "name": "stdout",
          "text": [
            "Extracting data/FashionMNIST/raw/t10k-labels-idx1-ubyte.gz to data/FashionMNIST/raw\n",
            "\n"
          ]
        }
      ]
    },
    {
      "cell_type": "code",
      "source": [
        "image,label = train_data[0]\n",
        "image,label"
      ],
      "metadata": {
        "colab": {
          "base_uri": "https://localhost:8080/"
        },
        "id": "nJ9CDtlxfG9T",
        "outputId": "20fcad7a-93eb-4c0d-ae79-422c88c3b7bb"
      },
      "execution_count": 3,
      "outputs": [
        {
          "output_type": "execute_result",
          "data": {
            "text/plain": [
              "(tensor([[[0.0000, 0.0000, 0.0000, 0.0000, 0.0000, 0.0000, 0.0000, 0.0000,\n",
              "           0.0000, 0.0000, 0.0000, 0.0000, 0.0000, 0.0000, 0.0000, 0.0000,\n",
              "           0.0000, 0.0000, 0.0000, 0.0000, 0.0000, 0.0000, 0.0000, 0.0000,\n",
              "           0.0000, 0.0000, 0.0000, 0.0000],\n",
              "          [0.0000, 0.0000, 0.0000, 0.0000, 0.0000, 0.0000, 0.0000, 0.0000,\n",
              "           0.0000, 0.0000, 0.0000, 0.0000, 0.0000, 0.0000, 0.0000, 0.0000,\n",
              "           0.0000, 0.0000, 0.0000, 0.0000, 0.0000, 0.0000, 0.0000, 0.0000,\n",
              "           0.0000, 0.0000, 0.0000, 0.0000],\n",
              "          [0.0000, 0.0000, 0.0000, 0.0000, 0.0000, 0.0000, 0.0000, 0.0000,\n",
              "           0.0000, 0.0000, 0.0000, 0.0000, 0.0000, 0.0000, 0.0000, 0.0000,\n",
              "           0.0000, 0.0000, 0.0000, 0.0000, 0.0000, 0.0000, 0.0000, 0.0000,\n",
              "           0.0000, 0.0000, 0.0000, 0.0000],\n",
              "          [0.0000, 0.0000, 0.0000, 0.0000, 0.0000, 0.0000, 0.0000, 0.0000,\n",
              "           0.0000, 0.0000, 0.0000, 0.0000, 0.0039, 0.0000, 0.0000, 0.0510,\n",
              "           0.2863, 0.0000, 0.0000, 0.0039, 0.0157, 0.0000, 0.0000, 0.0000,\n",
              "           0.0000, 0.0039, 0.0039, 0.0000],\n",
              "          [0.0000, 0.0000, 0.0000, 0.0000, 0.0000, 0.0000, 0.0000, 0.0000,\n",
              "           0.0000, 0.0000, 0.0000, 0.0000, 0.0118, 0.0000, 0.1412, 0.5333,\n",
              "           0.4980, 0.2431, 0.2118, 0.0000, 0.0000, 0.0000, 0.0039, 0.0118,\n",
              "           0.0157, 0.0000, 0.0000, 0.0118],\n",
              "          [0.0000, 0.0000, 0.0000, 0.0000, 0.0000, 0.0000, 0.0000, 0.0000,\n",
              "           0.0000, 0.0000, 0.0000, 0.0000, 0.0235, 0.0000, 0.4000, 0.8000,\n",
              "           0.6902, 0.5255, 0.5647, 0.4824, 0.0902, 0.0000, 0.0000, 0.0000,\n",
              "           0.0000, 0.0471, 0.0392, 0.0000],\n",
              "          [0.0000, 0.0000, 0.0000, 0.0000, 0.0000, 0.0000, 0.0000, 0.0000,\n",
              "           0.0000, 0.0000, 0.0000, 0.0000, 0.0000, 0.0000, 0.6078, 0.9255,\n",
              "           0.8118, 0.6980, 0.4196, 0.6118, 0.6314, 0.4275, 0.2510, 0.0902,\n",
              "           0.3020, 0.5098, 0.2824, 0.0588],\n",
              "          [0.0000, 0.0000, 0.0000, 0.0000, 0.0000, 0.0000, 0.0000, 0.0000,\n",
              "           0.0000, 0.0000, 0.0000, 0.0039, 0.0000, 0.2706, 0.8118, 0.8745,\n",
              "           0.8549, 0.8471, 0.8471, 0.6392, 0.4980, 0.4745, 0.4784, 0.5725,\n",
              "           0.5529, 0.3451, 0.6745, 0.2588],\n",
              "          [0.0000, 0.0000, 0.0000, 0.0000, 0.0000, 0.0000, 0.0000, 0.0000,\n",
              "           0.0000, 0.0039, 0.0039, 0.0039, 0.0000, 0.7843, 0.9098, 0.9098,\n",
              "           0.9137, 0.8980, 0.8745, 0.8745, 0.8431, 0.8353, 0.6431, 0.4980,\n",
              "           0.4824, 0.7686, 0.8980, 0.0000],\n",
              "          [0.0000, 0.0000, 0.0000, 0.0000, 0.0000, 0.0000, 0.0000, 0.0000,\n",
              "           0.0000, 0.0000, 0.0000, 0.0000, 0.0000, 0.7176, 0.8824, 0.8471,\n",
              "           0.8745, 0.8941, 0.9216, 0.8902, 0.8784, 0.8706, 0.8784, 0.8667,\n",
              "           0.8745, 0.9608, 0.6784, 0.0000],\n",
              "          [0.0000, 0.0000, 0.0000, 0.0000, 0.0000, 0.0000, 0.0000, 0.0000,\n",
              "           0.0000, 0.0000, 0.0000, 0.0000, 0.0000, 0.7569, 0.8941, 0.8549,\n",
              "           0.8353, 0.7765, 0.7059, 0.8314, 0.8235, 0.8275, 0.8353, 0.8745,\n",
              "           0.8627, 0.9529, 0.7922, 0.0000],\n",
              "          [0.0000, 0.0000, 0.0000, 0.0000, 0.0000, 0.0000, 0.0000, 0.0000,\n",
              "           0.0000, 0.0039, 0.0118, 0.0000, 0.0471, 0.8588, 0.8627, 0.8314,\n",
              "           0.8549, 0.7529, 0.6627, 0.8902, 0.8157, 0.8549, 0.8784, 0.8314,\n",
              "           0.8863, 0.7725, 0.8196, 0.2039],\n",
              "          [0.0000, 0.0000, 0.0000, 0.0000, 0.0000, 0.0000, 0.0000, 0.0000,\n",
              "           0.0000, 0.0000, 0.0235, 0.0000, 0.3882, 0.9569, 0.8706, 0.8627,\n",
              "           0.8549, 0.7961, 0.7765, 0.8667, 0.8431, 0.8353, 0.8706, 0.8627,\n",
              "           0.9608, 0.4667, 0.6549, 0.2196],\n",
              "          [0.0000, 0.0000, 0.0000, 0.0000, 0.0000, 0.0000, 0.0000, 0.0000,\n",
              "           0.0000, 0.0157, 0.0000, 0.0000, 0.2157, 0.9255, 0.8941, 0.9020,\n",
              "           0.8941, 0.9412, 0.9098, 0.8353, 0.8549, 0.8745, 0.9176, 0.8510,\n",
              "           0.8510, 0.8196, 0.3608, 0.0000],\n",
              "          [0.0000, 0.0000, 0.0039, 0.0157, 0.0235, 0.0275, 0.0078, 0.0000,\n",
              "           0.0000, 0.0000, 0.0000, 0.0000, 0.9294, 0.8863, 0.8510, 0.8745,\n",
              "           0.8706, 0.8588, 0.8706, 0.8667, 0.8471, 0.8745, 0.8980, 0.8431,\n",
              "           0.8549, 1.0000, 0.3020, 0.0000],\n",
              "          [0.0000, 0.0118, 0.0000, 0.0000, 0.0000, 0.0000, 0.0000, 0.0000,\n",
              "           0.0000, 0.2431, 0.5686, 0.8000, 0.8941, 0.8118, 0.8353, 0.8667,\n",
              "           0.8549, 0.8157, 0.8275, 0.8549, 0.8784, 0.8745, 0.8588, 0.8431,\n",
              "           0.8784, 0.9569, 0.6235, 0.0000],\n",
              "          [0.0000, 0.0000, 0.0000, 0.0000, 0.0706, 0.1725, 0.3216, 0.4196,\n",
              "           0.7412, 0.8941, 0.8627, 0.8706, 0.8510, 0.8863, 0.7843, 0.8039,\n",
              "           0.8275, 0.9020, 0.8784, 0.9176, 0.6902, 0.7373, 0.9804, 0.9725,\n",
              "           0.9137, 0.9333, 0.8431, 0.0000],\n",
              "          [0.0000, 0.2235, 0.7333, 0.8157, 0.8784, 0.8667, 0.8784, 0.8157,\n",
              "           0.8000, 0.8392, 0.8157, 0.8196, 0.7843, 0.6235, 0.9608, 0.7569,\n",
              "           0.8078, 0.8745, 1.0000, 1.0000, 0.8667, 0.9176, 0.8667, 0.8275,\n",
              "           0.8627, 0.9098, 0.9647, 0.0000],\n",
              "          [0.0118, 0.7922, 0.8941, 0.8784, 0.8667, 0.8275, 0.8275, 0.8392,\n",
              "           0.8039, 0.8039, 0.8039, 0.8627, 0.9412, 0.3137, 0.5882, 1.0000,\n",
              "           0.8980, 0.8667, 0.7373, 0.6039, 0.7490, 0.8235, 0.8000, 0.8196,\n",
              "           0.8706, 0.8941, 0.8824, 0.0000],\n",
              "          [0.3843, 0.9137, 0.7765, 0.8235, 0.8706, 0.8980, 0.8980, 0.9176,\n",
              "           0.9765, 0.8627, 0.7608, 0.8431, 0.8510, 0.9451, 0.2549, 0.2863,\n",
              "           0.4157, 0.4588, 0.6588, 0.8588, 0.8667, 0.8431, 0.8510, 0.8745,\n",
              "           0.8745, 0.8784, 0.8980, 0.1137],\n",
              "          [0.2941, 0.8000, 0.8314, 0.8000, 0.7569, 0.8039, 0.8275, 0.8824,\n",
              "           0.8471, 0.7255, 0.7725, 0.8078, 0.7765, 0.8353, 0.9412, 0.7647,\n",
              "           0.8902, 0.9608, 0.9373, 0.8745, 0.8549, 0.8314, 0.8196, 0.8706,\n",
              "           0.8627, 0.8667, 0.9020, 0.2627],\n",
              "          [0.1882, 0.7961, 0.7176, 0.7608, 0.8353, 0.7725, 0.7255, 0.7451,\n",
              "           0.7608, 0.7529, 0.7922, 0.8392, 0.8588, 0.8667, 0.8627, 0.9255,\n",
              "           0.8824, 0.8471, 0.7804, 0.8078, 0.7294, 0.7098, 0.6941, 0.6745,\n",
              "           0.7098, 0.8039, 0.8078, 0.4510],\n",
              "          [0.0000, 0.4784, 0.8588, 0.7569, 0.7020, 0.6706, 0.7176, 0.7686,\n",
              "           0.8000, 0.8235, 0.8353, 0.8118, 0.8275, 0.8235, 0.7843, 0.7686,\n",
              "           0.7608, 0.7490, 0.7647, 0.7490, 0.7765, 0.7529, 0.6902, 0.6118,\n",
              "           0.6549, 0.6941, 0.8235, 0.3608],\n",
              "          [0.0000, 0.0000, 0.2902, 0.7412, 0.8314, 0.7490, 0.6863, 0.6745,\n",
              "           0.6863, 0.7098, 0.7255, 0.7373, 0.7412, 0.7373, 0.7569, 0.7765,\n",
              "           0.8000, 0.8196, 0.8235, 0.8235, 0.8275, 0.7373, 0.7373, 0.7608,\n",
              "           0.7529, 0.8471, 0.6667, 0.0000],\n",
              "          [0.0078, 0.0000, 0.0000, 0.0000, 0.2588, 0.7843, 0.8706, 0.9294,\n",
              "           0.9373, 0.9490, 0.9647, 0.9529, 0.9569, 0.8667, 0.8627, 0.7569,\n",
              "           0.7490, 0.7020, 0.7137, 0.7137, 0.7098, 0.6902, 0.6510, 0.6588,\n",
              "           0.3882, 0.2275, 0.0000, 0.0000],\n",
              "          [0.0000, 0.0000, 0.0000, 0.0000, 0.0000, 0.0000, 0.0000, 0.1569,\n",
              "           0.2392, 0.1725, 0.2824, 0.1608, 0.1373, 0.0000, 0.0000, 0.0000,\n",
              "           0.0000, 0.0000, 0.0000, 0.0000, 0.0000, 0.0000, 0.0000, 0.0000,\n",
              "           0.0000, 0.0000, 0.0000, 0.0000],\n",
              "          [0.0000, 0.0000, 0.0000, 0.0000, 0.0000, 0.0000, 0.0000, 0.0000,\n",
              "           0.0000, 0.0000, 0.0000, 0.0000, 0.0000, 0.0000, 0.0000, 0.0000,\n",
              "           0.0000, 0.0000, 0.0000, 0.0000, 0.0000, 0.0000, 0.0000, 0.0000,\n",
              "           0.0000, 0.0000, 0.0000, 0.0000],\n",
              "          [0.0000, 0.0000, 0.0000, 0.0000, 0.0000, 0.0000, 0.0000, 0.0000,\n",
              "           0.0000, 0.0000, 0.0000, 0.0000, 0.0000, 0.0000, 0.0000, 0.0000,\n",
              "           0.0000, 0.0000, 0.0000, 0.0000, 0.0000, 0.0000, 0.0000, 0.0000,\n",
              "           0.0000, 0.0000, 0.0000, 0.0000]]]),\n",
              " 9)"
            ]
          },
          "metadata": {},
          "execution_count": 3
        }
      ]
    },
    {
      "cell_type": "code",
      "source": [
        "#shape of the image\n",
        "image.shape"
      ],
      "metadata": {
        "colab": {
          "base_uri": "https://localhost:8080/"
        },
        "id": "XYJw-aocfWj5",
        "outputId": "a50544e1-859a-4493-ec2e-70f1e89f73ca"
      },
      "execution_count": 4,
      "outputs": [
        {
          "output_type": "execute_result",
          "data": {
            "text/plain": [
              "torch.Size([1, 28, 28])"
            ]
          },
          "metadata": {},
          "execution_count": 4
        }
      ]
    },
    {
      "cell_type": "markdown",
      "source": [
        "### Hence its a 1 channel( grayscale ) 28x28 image.\n",
        "### The shape of image tensor is [color_channel=1, height=28, width=28]"
      ],
      "metadata": {
        "id": "mVmavKLAf_hO"
      }
    },
    {
      "cell_type": "markdown",
      "source": [
        "### Pytorch recommends NHWC or [Number of images, Height, Width, channel]"
      ],
      "metadata": {
        "id": "PhEIuTmcgdIT"
      }
    },
    {
      "cell_type": "code",
      "source": [
        "len(train_data.data),len(train_data.targets),len(test_data.data),len(test_data.targets)"
      ],
      "metadata": {
        "colab": {
          "base_uri": "https://localhost:8080/"
        },
        "id": "2JvtDLrEfqwu",
        "outputId": "4c083dbe-d630-4600-f7fc-97e8eed5c49f"
      },
      "execution_count": 5,
      "outputs": [
        {
          "output_type": "execute_result",
          "data": {
            "text/plain": [
              "(60000, 60000, 10000, 10000)"
            ]
          },
          "metadata": {},
          "execution_count": 5
        }
      ]
    },
    {
      "cell_type": "code",
      "source": [
        "class_names = train_data.classes\n",
        "class_names"
      ],
      "metadata": {
        "colab": {
          "base_uri": "https://localhost:8080/"
        },
        "id": "mrqVOOythHuo",
        "outputId": "87df9215-854d-44f2-fdb5-1de5cda016f0"
      },
      "execution_count": 6,
      "outputs": [
        {
          "output_type": "execute_result",
          "data": {
            "text/plain": [
              "['T-shirt/top',\n",
              " 'Trouser',\n",
              " 'Pullover',\n",
              " 'Dress',\n",
              " 'Coat',\n",
              " 'Sandal',\n",
              " 'Shirt',\n",
              " 'Sneaker',\n",
              " 'Bag',\n",
              " 'Ankle boot']"
            ]
          },
          "metadata": {},
          "execution_count": 6
        }
      ]
    },
    {
      "cell_type": "code",
      "source": [
        "##  Visualize a sample image and its label\n",
        "plt.imshow(image.squeeze(),cmap='gray')\n",
        "plt.title(class_names[label]);"
      ],
      "metadata": {
        "colab": {
          "base_uri": "https://localhost:8080/",
          "height": 452
        },
        "id": "56Q2vtYGhPvn",
        "outputId": "76431fd5-68b8-4e86-f526-fb8dd7423dc9"
      },
      "execution_count": 7,
      "outputs": [
        {
          "output_type": "display_data",
          "data": {
            "text/plain": [
              "<Figure size 640x480 with 1 Axes>"
            ],
            "image/png": "[encoded data removed]"
          },
          "metadata": {}
        }
      ]
    },
    {
      "cell_type": "code",
      "source": [
        "## plot a few more images from the dataset\n",
        "torch.manual_seed(42)\n",
        "fig = plt.figure(figsize=(9, 9))\n",
        "rows, cols = 4, 4\n",
        "for i in range(1, rows * cols + 1):\n",
        "    random_idx = torch.randint(0, len(train_data), size=[1]).item()\n",
        "    img, label = train_data[random_idx]\n",
        "    fig.add_subplot(rows, cols, i)\n",
        "    plt.imshow(img.squeeze(), cmap=\"gray\")\n",
        "    plt.title(class_names[label])\n",
        "    plt.axis(False);"
      ],
      "metadata": {
        "colab": {
          "base_uri": "https://localhost:8080/",
          "height": 752
        },
        "id": "H2hCKMMIhfdF",
        "outputId": "93037897-ac7e-481d-e91c-cd4842565512"
      },
      "execution_count": 8,
      "outputs": [
        {
          "output_type": "display_data",
          "data": {
            "text/plain": [
              "<Figure size 900x900 with 16 Axes>"
            ],
            "image/png": "[encoded data removed]"
          },
          "metadata": {}
        }
      ]
    },
    {
      "cell_type": "markdown",
      "source": [
        "## Can we solve this with a linear model?"
      ],
      "metadata": {
        "id": "J2PHMtkbiqj3"
      }
    },
    {
      "cell_type": "markdown",
      "source": [
        "## Prepare Dataloader\n",
        "## It loads the data to the model. Transforms the data to a python iterable of smaller chunks\n",
        "## With mini-batches (small portions of the data), gradient descent is performed more often per epoch (once per mini-batch rather than once per epoch)."
      ],
      "metadata": {
        "id": "fzIMLVVIivNw"
      }
    },
    {
      "cell_type": "code",
      "source": [
        "## Let's create the dataloader for Training and Test dataset\n",
        "from torch.utils.data import DataLoader\n",
        "\n",
        "#Set the size of mini batch\n",
        "BATCH_SIZE = 32\n",
        "\n",
        "train_dataloader = DataLoader(train_data,\n",
        "                              batch_size=BATCH_SIZE,\n",
        "                              shuffle=True)\n",
        "\n",
        "test_dataloader = DataLoader(test_data,\n",
        "                             batch_size=BATCH_SIZE,\n",
        "                             shuffle=False)\n",
        "\n",
        "print(f'DataLoaders : {train_dataloader} , {test_dataloader}')\n",
        "print(f'Length of Train Data loader {len(train_dataloader)} with batch size {BATCH_SIZE}')\n",
        "print(f'Length of Test Data loader {len(test_dataloader)} with batch size {BATCH_SIZE}')"
      ],
      "metadata": {
        "colab": {
          "base_uri": "https://localhost:8080/"
        },
        "id": "JE8oDZMNiaF2",
        "outputId": "8a6be3de-b7b5-4120-a1df-9d9e589dd553"
      },
      "execution_count": 9,
      "outputs": [
        {
          "output_type": "stream",
          "name": "stdout",
          "text": [
            "DataLoaders : <torch.utils.data.dataloader.DataLoader object at 0x7f93d039f970> , <torch.utils.data.dataloader.DataLoader object at 0x7f93d039fd30>\n",
            "Length of Train Data loader 1875 with batch size 32\n",
            "Length of Test Data loader 313 with batch size 32\n"
          ]
        }
      ]
    },
    {
      "cell_type": "code",
      "source": [
        "## Checkout what's inside training dataloader\n",
        "train_features_batch, train_label_batch = next(iter(train_dataloader))\n",
        "train_features_batch.shape, train_label_batch.shape"
      ],
      "metadata": {
        "colab": {
          "base_uri": "https://localhost:8080/"
        },
        "id": "PCfFeyExkSUP",
        "outputId": "0645eab0-9c55-40ed-8384-619ec3c74da6"
      },
      "execution_count": 10,
      "outputs": [
        {
          "output_type": "execute_result",
          "data": {
            "text/plain": [
              "(torch.Size([32, 1, 28, 28]), torch.Size([32]))"
            ]
          },
          "metadata": {},
          "execution_count": 10
        }
      ]
    },
    {
      "cell_type": "markdown",
      "source": [
        "## Model_0 : The baseline model\n",
        "## We will have 2 `nn.Linear` layer but before that we need to flatten the image tensor.\n",
        "## Since we are using image data, we need to use `nn.Flatten`. It compresses the dimensions for tensor into a single vector."
      ],
      "metadata": {
        "id": "PaHBuQtKlJzq"
      }
    },
    {
      "cell_type": "markdown",
      "source": [
        "### Let's see what `nn.Flatten` does"
      ],
      "metadata": {
        "id": "gC9FbjySmLWo"
      }
    },
    {
      "cell_type": "code",
      "source": [
        "flatten_model = nn.Flatten()\n",
        "\n",
        "print(f'Shape of image tensor before flatten : {image.shape} -> [color_channels, height, width]')\n",
        "print(f'Shape of image tensor after flatten : {flatten_model(image).shape} -> [color_channels, height * width]')"
      ],
      "metadata": {
        "colab": {
          "base_uri": "https://localhost:8080/"
        },
        "id": "tZCujm5Bkx5K",
        "outputId": "461af1ba-bb90-4297-acd5-fe6846dccb04"
      },
      "execution_count": 11,
      "outputs": [
        {
          "output_type": "stream",
          "name": "stdout",
          "text": [
            "Shape of image tensor before flatten : torch.Size([1, 28, 28]) -> [color_channels, height, width]\n",
            "Shape of image tensor after flatten : torch.Size([1, 784]) -> [color_channels, height * width]\n"
          ]
        }
      ]
    },
    {
      "cell_type": "markdown",
      "source": [
        "## Create the model"
      ],
      "metadata": {
        "id": "VVBzoM8km1ij"
      }
    },
    {
      "cell_type": "code",
      "source": [
        "class FashionMNISTModelV0(nn.Module):\n",
        "  def __init__(self,input_shape: int, hidden_units: int, output_shape: int):\n",
        "    super().__init__()\n",
        "    self.layer_stack = nn.Sequential(\n",
        "        nn.Flatten(),\n",
        "        nn.Linear(in_features=input_shape,out_features=hidden_units),\n",
        "        nn.Linear(in_features=hidden_units,out_features=output_shape)\n",
        "    )\n",
        "\n",
        "  def forward(self,x) -> torch.Tensor:\n",
        "    return self.layer_stack(x)\n"
      ],
      "metadata": {
        "id": "WDUa5mH6mlm8"
      },
      "execution_count": 12,
      "outputs": []
    },
    {
      "cell_type": "code",
      "source": [
        "model_0 = FashionMNISTModelV0(input_shape=784,\n",
        "                              hidden_units=10,\n",
        "                              output_shape=len(class_names)\n",
        "                              ).to('cpu')\n",
        "\n",
        "model_0"
      ],
      "metadata": {
        "colab": {
          "base_uri": "https://localhost:8080/"
        },
        "id": "5BjTEXunn1xB",
        "outputId": "2ca1f0b3-203f-471d-f55e-c74249971318"
      },
      "execution_count": 13,
      "outputs": [
        {
          "output_type": "execute_result",
          "data": {
            "text/plain": [
              "FashionMNISTModelV0(\n",
              "  (layer_stack): Sequential(\n",
              "    (0): Flatten(start_dim=1, end_dim=-1)\n",
              "    (1): Linear(in_features=784, out_features=10, bias=True)\n",
              "    (2): Linear(in_features=10, out_features=10, bias=True)\n",
              "  )\n",
              ")"
            ]
          },
          "metadata": {},
          "execution_count": 13
        }
      ]
    },
    {
      "cell_type": "code",
      "source": [
        "import requests\n",
        "from pathlib import Path\n",
        "\n",
        "if Path(\"helper_function.py\").is_file():\n",
        "  print(f'helper_functions.py already exists, skipping download')\n",
        "else:\n",
        "  print(f'Download helper functions')\n",
        "  request = requests.get('https://raw.githubusercontent.com/mrdbourke/pytorch-deep-learning/main/helper_functions.py')\n",
        "  with open(\"helper_functions.py\",\"wb\") as f:\n",
        "    f.write(request.content)"
      ],
      "metadata": {
        "colab": {
          "base_uri": "https://localhost:8080/"
        },
        "id": "jZc05jksoCNM",
        "outputId": "b16893b9-5323-4158-f02c-4fb4211a43ce"
      },
      "execution_count": 14,
      "outputs": [
        {
          "output_type": "stream",
          "name": "stdout",
          "text": [
            "Download helper functions\n"
          ]
        }
      ]
    },
    {
      "cell_type": "markdown",
      "source": [
        "### Setup the loss and optimizer"
      ],
      "metadata": {
        "id": "wZ3YalXSobsA"
      }
    },
    {
      "cell_type": "code",
      "source": [
        "from helper_functions import accuracy_fn\n",
        "loss_fn = nn.CrossEntropyLoss()\n",
        "optimizer = torch.optim.SGD(params=model_0.parameters(),lr=0.1)\n",
        "loss_fn,optimizer"
      ],
      "metadata": {
        "colab": {
          "base_uri": "https://localhost:8080/"
        },
        "id": "4p_ZXpMyoK-v",
        "outputId": "76b2ba51-4dba-43a0-d94d-0f45573f4a71"
      },
      "execution_count": 15,
      "outputs": [
        {
          "output_type": "execute_result",
          "data": {
            "text/plain": [
              "(CrossEntropyLoss(),\n",
              " SGD (\n",
              " Parameter Group 0\n",
              "     dampening: 0\n",
              "     differentiable: False\n",
              "     foreach: None\n",
              "     lr: 0.1\n",
              "     maximize: False\n",
              "     momentum: 0\n",
              "     nesterov: False\n",
              "     weight_decay: 0\n",
              " ))"
            ]
          },
          "metadata": {},
          "execution_count": 15
        }
      ]
    },
    {
      "cell_type": "code",
      "source": [
        "## Function to track training time\n",
        "\n",
        "\n",
        "from timeit import default_timer as timer\n",
        "\n",
        "def print_training_time(start:float , end: float, device: torch.device=None):\n",
        "  ''' Prints the difference between start time and end time\n",
        "\n",
        "  Args: \n",
        "    start(float) : start time of computation ( Preferred in timeit format)\n",
        "    end (float) : end time of computation ( preferred in timeit format)\n",
        "    device (torch.device) : Device on which training is executed . Default is None\n",
        "\n",
        "  Returns:\n",
        "    float : time between start and end time in seconds. Higher is Longer\n",
        "  '''\n",
        "  total_time = end - start\n",
        "  print(f'Train time on {device} is {total_time: .3f} seconds')\n",
        "  return total_time"
      ],
      "metadata": {
        "id": "STwlDOXQpHM0"
      },
      "execution_count": 16,
      "outputs": []
    },
    {
      "cell_type": "markdown",
      "source": [
        "## Steps for Training\n",
        "\n",
        "\n",
        "1. Loop through epochs\n",
        "  2. Loop through training batches\n",
        "    1. Perform training\n",
        "    2. Calculate loss\n",
        "    3. Calculate accuracy\n",
        "  3. Loop through testing batches\n",
        "    1. Perform Test\n",
        "    2. Calcuate loss\n",
        "    3. Calculate accuracy\n",
        "  4. Print time taken\n",
        "\n"
      ],
      "metadata": {
        "id": "hCtzKCfCq8PI"
      }
    },
    {
      "cell_type": "code",
      "source": [
        "# import tqdm for progress bar\n",
        "from tqdm.auto import tqdm\n",
        "\n",
        "torch.manual_seed(42)\n",
        "train_time_start_on_cpu = timer()\n",
        "epochs = 3\n",
        "\n",
        "## Create training and test loop\n",
        "\n",
        "for epoch in tqdm(range(epochs)):\n",
        "  print(f'Epoch : {epoch} \\n ----------')\n",
        "  ## Accumulate training loss for all batches\n",
        "  train_loss = 0\n",
        "  for batch,(X,y) in enumerate(train_dataloader):\n",
        "\n",
        "    ## Train the model\n",
        "    model_0.train()\n",
        "\n",
        "    ## Forward pass\n",
        "    y_preds = model_0(X)\n",
        "\n",
        "    ## Calculate Loss\n",
        "    loss = loss_fn(y_preds,y)\n",
        "    train_loss += loss\n",
        "\n",
        "    ## Zero grad\n",
        "    optimizer.zero_grad()\n",
        "\n",
        "    ## backprop\n",
        "    loss.backward()\n",
        "\n",
        "    ## Update parameters\n",
        "    optimizer.step()\n",
        "\n",
        "    if batch % 400 == 0:\n",
        "      print(f'Looked at {batch * len(X)}/{len(train_dataloader.dataset)} images')\n",
        "    \n",
        "  train_loss /= len(train_dataloader)\n",
        "\n",
        "  ###### Testing #########\n",
        "  test_loss, test_acc=0, 0\n",
        "  ## Evaluate model\n",
        "  model_0.eval()\n",
        "\n",
        "  with torch.inference_mode():\n",
        "    for X,y in test_dataloader:\n",
        "      test_preds = model_0(X)\n",
        "      loss = loss_fn(test_preds,y)\n",
        "      test_loss += loss\n",
        "      test_acc += accuracy_fn(y_true=y, y_pred=test_preds.argmax(dim=1))\n",
        "    test_loss /= len(test_dataloader)\n",
        "    test_acc /= len(test_dataloader)\n",
        "\n",
        "  print(f\"\\nTrain loss: {train_loss:.5f} | Test loss: {test_loss:.5f}, Test acc: {test_acc:.2f}%\\n\")\n",
        "\n",
        "# Calculate training time      \n",
        "train_time_end_on_cpu = timer()\n",
        "total_train_time_model_0 = print_training_time(start=train_time_start_on_cpu, \n",
        "                                           end=train_time_end_on_cpu,\n",
        "                                           device=str(next(model_0.parameters()).device))\n"
      ],
      "metadata": {
        "colab": {
          "base_uri": "https://localhost:8080/",
          "height": 618,
          "referenced_widgets": [
            "aade06d8530b499cb8af8b44ea0c9f49",
            "9d665c24fc3e423db264a90be65e7346",
            "00915e45ad974fee94d6b4d7429ce843",
            "8b51c009134e4600aad71f146af20c05",
            "9154d985fdd74f8e98754571457f0d05",
            "444e6d6cbad64e408cab3b4be6a9e7dc",
            "788ddd321a994ef6bb1b783475a88aa4",
            "f9acf76101894251b23d76d0a7e93aec",
            "7792c19d49014309b7a2192959d121ce",
            "8bf9ffa7b2ef43cb9f21afd901faaf97",
            "bb503bf969e849f3b29edefba7cfb6c3"
          ]
        },
        "id": "oPA4KZXCqoT6",
        "outputId": "2c24f562-ae68-4864-a6ea-f5f5f7f0b9d9"
      },
      "execution_count": 17,
      "outputs": [
        {
          "output_type": "display_data",
          "data": {
            "text/plain": [
              "  0%|          | 0/3 [00:00<?, ?it/s]"
            ],
            "application/vnd.jupyter.widget-view+json": {
              "version_major": 2,
              "version_minor": 0,
              "model_id": "aade06d8530b499cb8af8b44ea0c9f49"
            }
          },
          "metadata": {}
        },
        {
          "output_type": "stream",
          "name": "stdout",
          "text": [
            "Epoch : 0 \n",
            " ----------\n",
            "Looked at 0/60000 images\n",
            "Looked at 12800/60000 images\n",
            "Looked at 25600/60000 images\n",
            "Looked at 38400/60000 images\n",
            "Looked at 51200/60000 images\n",
            "\n",
            "Train loss: 0.58906 | Test loss: 0.50808, Test acc: 82.21%\n",
            "\n",
            "Epoch : 1 \n",
            " ----------\n",
            "Looked at 0/60000 images\n",
            "Looked at 12800/60000 images\n",
            "Looked at 25600/60000 images\n",
            "Looked at 38400/60000 images\n",
            "Looked at 51200/60000 images\n",
            "\n",
            "Train loss: 0.47705 | Test loss: 0.48183, Test acc: 82.94%\n",
            "\n",
            "Epoch : 2 \n",
            " ----------\n",
            "Looked at 0/60000 images\n",
            "Looked at 12800/60000 images\n",
            "Looked at 25600/60000 images\n",
            "Looked at 38400/60000 images\n",
            "Looked at 51200/60000 images\n",
            "\n",
            "Train loss: 0.45532 | Test loss: 0.47896, Test acc: 83.39%\n",
            "\n",
            "Train time on cpu is  31.552 seconds\n"
          ]
        }
      ]
    },
    {
      "cell_type": "markdown",
      "source": [
        "### Make predictions and get Model 0 results"
      ],
      "metadata": {
        "id": "hxjQVCx2qe5r"
      }
    },
    {
      "cell_type": "code",
      "source": [
        "torch.manual_seed(42)\n",
        "\n",
        "def eval_mode(model: torch.nn.Module,\n",
        "              dataloader : torch.utils.data.DataLoader,\n",
        "              loss_fn: torch.nn.Module,\n",
        "              accuracy_fn):\n",
        "  \n",
        "  \"\"\" Returns a dictionary containing the results of model prediction on a dataloader\n",
        "\n",
        "  Args:\n",
        "    model (torch.nn.Module): A pytorch model capable of making predictions on data_loader\n",
        "    dataloader (torch.utils.data.Dataloader): The target dataset to predict on.\n",
        "    loss_fn (torch.nn.Module): A loss function of model.\n",
        "    accuracy_fn: A function to compare model prediction to the truth labels.\n",
        "\n",
        "  Returns:\n",
        "    (dict): Results of model making predictions on dataloader\n",
        "  \"\"\"\n",
        "\n",
        "  loss,acc = 0,0\n",
        "  model.eval()\n",
        "  with torch.inference_mode():\n",
        "    for X,y in dataloader:\n",
        "      X,y = X.to(device),y.to(device)\n",
        "      y_pred = model(X)\n",
        "\n",
        "      ## Accumulate the loss and accuracy per batch\n",
        "      loss += loss_fn(y_pred,y)\n",
        "      acc += accuracy_fn(y_true=y,y_pred=y_pred.argmax(dim=1))\n",
        "    \n",
        "    loss /= len(dataloader)\n",
        "    acc /= len(dataloader)\n",
        "\n",
        "  return {\"model\": model.__class__.__name__,\n",
        "          \"model_loss\": loss.item(),\n",
        "          \"accuracy\": acc} "
      ],
      "metadata": {
        "id": "QvKWKcUmvRE8"
      },
      "execution_count": 18,
      "outputs": []
    },
    {
      "cell_type": "code",
      "source": [
        "device = \"cpu\"\n",
        "model_0_results = eval_mode(model=model_0,dataloader=test_dataloader,\n",
        "                            loss_fn=loss_fn,accuracy_fn=accuracy_fn)\n",
        "\n",
        "model_0_results"
      ],
      "metadata": {
        "colab": {
          "base_uri": "https://localhost:8080/"
        },
        "id": "9VwuSsAPtYsV",
        "outputId": "9428302e-3c1d-467e-eb8a-11e686bf4157"
      },
      "execution_count": 19,
      "outputs": [
        {
          "output_type": "execute_result",
          "data": {
            "text/plain": [
              "{'model': 'FashionMNISTModelV0',\n",
              " 'model_loss': 0.47895535826683044,\n",
              " 'accuracy': 83.38658146964856}"
            ]
          },
          "metadata": {},
          "execution_count": 19
        }
      ]
    },
    {
      "cell_type": "markdown",
      "source": [
        "### Set up device agnostic code"
      ],
      "metadata": {
        "id": "0YC0-VFP05S6"
      }
    },
    {
      "cell_type": "code",
      "source": [
        "device = \"cuda\" if torch.cuda.is_available() else \"cpu\"\n",
        "device"
      ],
      "metadata": {
        "colab": {
          "base_uri": "https://localhost:8080/",
          "height": 36
        },
        "id": "bxPtHaZetxjU",
        "outputId": "d22873ff-5e55-4fe9-a0e4-88925804d301"
      },
      "execution_count": 20,
      "outputs": [
        {
          "output_type": "execute_result",
          "data": {
            "text/plain": [
              "'cuda'"
            ],
            "application/vnd.google.colaboratory.intrinsic+json": {
              "type": "string"
            }
          },
          "metadata": {},
          "execution_count": 20
        }
      ]
    },
    {
      "cell_type": "markdown",
      "source": [
        "## Build a better model by adding non-linearity"
      ],
      "metadata": {
        "id": "PnBaJ7Cb1JA9"
      }
    },
    {
      "cell_type": "code",
      "source": [
        "## Create the model with linear and non-linear layers\n",
        "\n",
        "class FashionMNISTModelV1(nn.Module):\n",
        "  def __init__(self,input_features,hidden_units,output_features):\n",
        "    super().__init__()\n",
        "    self.layer_stack = nn.Sequential(\n",
        "        nn.Flatten(),\n",
        "        nn.Linear(in_features=input_features,out_features=hidden_units),\n",
        "        nn.ReLU(),\n",
        "        nn.Linear(in_features=hidden_units,out_features=output_features),\n",
        "        nn.ReLU()\n",
        "    )\n",
        "\n",
        "  def forward(self,x) -> torch.Tensor:\n",
        "    return self.layer_stack(x)\n"
      ],
      "metadata": {
        "id": "IxR-uRq91IeZ"
      },
      "execution_count": 21,
      "outputs": []
    },
    {
      "cell_type": "code",
      "source": [
        "model_1 = FashionMNISTModelV1(input_features=784,\n",
        "                              hidden_units = 10,\n",
        "                              output_features =len(class_names)).to(device)\n",
        "\n",
        "model_1"
      ],
      "metadata": {
        "colab": {
          "base_uri": "https://localhost:8080/"
        },
        "id": "XRs72uI11FFE",
        "outputId": "36c97523-d2e9-4fc3-f45f-f91b8f9f63b9"
      },
      "execution_count": 22,
      "outputs": [
        {
          "output_type": "execute_result",
          "data": {
            "text/plain": [
              "FashionMNISTModelV1(\n",
              "  (layer_stack): Sequential(\n",
              "    (0): Flatten(start_dim=1, end_dim=-1)\n",
              "    (1): Linear(in_features=784, out_features=10, bias=True)\n",
              "    (2): ReLU()\n",
              "    (3): Linear(in_features=10, out_features=10, bias=True)\n",
              "    (4): ReLU()\n",
              "  )\n",
              ")"
            ]
          },
          "metadata": {},
          "execution_count": 22
        }
      ]
    },
    {
      "cell_type": "code",
      "source": [
        "next(model_1.parameters()).device"
      ],
      "metadata": {
        "colab": {
          "base_uri": "https://localhost:8080/"
        },
        "id": "Ea713kUi2Vfb",
        "outputId": "4f494c4f-b035-44a5-8437-22dbdc84595a"
      },
      "execution_count": 23,
      "outputs": [
        {
          "output_type": "execute_result",
          "data": {
            "text/plain": [
              "device(type='cuda', index=0)"
            ]
          },
          "metadata": {},
          "execution_count": 23
        }
      ]
    },
    {
      "cell_type": "markdown",
      "source": [
        "#### Setup the loss function, optimizer and accuracy function"
      ],
      "metadata": {
        "id": "WfLWRbfg2yBd"
      }
    },
    {
      "cell_type": "code",
      "source": [
        "from helper_functions import accuracy_fn\n",
        "loss_fn = nn.CrossEntropyLoss()\n",
        "optimizer = torch.optim.SGD(params= model_1.parameters(),lr=0.1)\n"
      ],
      "metadata": {
        "id": "MRXLmPft2uCb"
      },
      "execution_count": 24,
      "outputs": []
    },
    {
      "cell_type": "markdown",
      "source": [
        "### Functionizing the training and test steps\n",
        "train_step: will take a model, a dataloader, loss_function ,optimizer\n",
        "\n",
        "test_step: will take a model, a dataloader, loss function and evaluation function"
      ],
      "metadata": {
        "id": "dn95FjLG4AX3"
      }
    },
    {
      "cell_type": "code",
      "source": [
        "def train_step(model: nn.Module,\n",
        "               dataloader: torch.utils.data.DataLoader,\n",
        "               loss_fn: nn.Module,\n",
        "               optimizer: torch.optim.Optimizer,\n",
        "               accuracy_fn,\n",
        "               device: torch.device=device):\n",
        "  train_loss, train_acc = 0, 0\n",
        "  model.to(device)\n",
        "  for batch,(X,y) in enumerate(dataloader):\n",
        "\n",
        "    X,y = X.to(device),y.to(device)\n",
        "\n",
        "    ## forward pass\n",
        "    y_pred = model(X)\n",
        "\n",
        "    # calculate loss\n",
        "    loss = loss_fn(y_pred,y)\n",
        "    train_loss += loss\n",
        "\n",
        "    ## calculate accuracy\n",
        "    train_acc += accuracy_fn(y_true=y,y_pred = y_pred.argmax(dim=1))\n",
        "\n",
        "    ## Zero grad\n",
        "    optimizer.zero_grad()\n",
        "\n",
        "    ## backprop\n",
        "    loss.backward()\n",
        "\n",
        "    ## update parameters\n",
        "    optimizer.step()\n",
        "  \n",
        "  ## Calculate the train loss and train accuracy after each epoch\n",
        "  train_loss /= len(dataloader)\n",
        "  train_acc /=  len(dataloader)\n",
        "  print(f'Train loss : {train_loss: .4f}, Train_acc: {train_acc: .2f}%')\n",
        "\n",
        "\n",
        "def test_step(model: nn.Module,\n",
        "              dataloader: torch.utils.data.DataLoader,\n",
        "              loss_fn: nn.Module,\n",
        "              accuracy_fn,\n",
        "              device: torch.device=device):\n",
        "  \n",
        "  test_loss , test_acc = 0, 0\n",
        "  model.to(device)\n",
        "  model.eval()\n",
        "  with torch.inference_mode():\n",
        "    for X,y in dataloader:\n",
        "    \n",
        "      X, y = X.to(device), y.to(device)\n",
        "\n",
        "      ## Forward pass\n",
        "      test_pred = model(X)\n",
        "\n",
        "      ## Calculate Loss\n",
        "      test_loss += loss_fn(test_pred,y)\n",
        "      test_acc += accuracy_fn(y_true=y,y_pred=test_pred.argmax(dim=1))\n",
        "  \n",
        "    test_loss /= len(dataloader)\n",
        "    test_acc /= len(dataloader)\n",
        "\n",
        "  print(f'Test loss: {test_loss: .4f}, Test acc: {test_acc: .2f}%')\n"
      ],
      "metadata": {
        "id": "A78zsS9T3_4O"
      },
      "execution_count": 25,
      "outputs": []
    },
    {
      "cell_type": "markdown",
      "source": [
        "## Lets train our non-linear model"
      ],
      "metadata": {
        "id": "9DhZsv2ZosSF"
      }
    },
    {
      "cell_type": "code",
      "source": [
        "torch.manual_seed(42)\n",
        "\n",
        "from timeit import default_timer as timer\n",
        "train_time_start_on_gpu = timer()\n",
        "\n",
        "epochs = 3\n",
        "\n",
        "for epoch in tqdm(range(epochs)):\n",
        "  print(f\"Epoch: {epoch}\\n---------\")\n",
        "  train_step(model=model_1, \n",
        "             dataloader=train_dataloader,\n",
        "             loss_fn=loss_fn,\n",
        "             optimizer=optimizer,\n",
        "             accuracy_fn=accuracy_fn)\n",
        "  \n",
        "  test_step(model=model_1,\n",
        "            dataloader=test_dataloader,\n",
        "            loss_fn=loss_fn,\n",
        "            accuracy_fn=accuracy_fn)\n",
        "  \n",
        "  train_time_end_on_gpu = timer()\n",
        "\n",
        "  total_train_time_model_1_on_gpu = print_training_time(train_time_start_on_gpu,\n",
        "                                                        train_time_end_on_gpu,\n",
        "                                                        device)\n",
        "\n",
        "  "
      ],
      "metadata": {
        "id": "m1R2r_YW3YG0",
        "colab": {
          "base_uri": "https://localhost:8080/",
          "height": 325,
          "referenced_widgets": [
            "61934a557bb543f0a2c3ef5d8f3e81e7",
            "16adf72a5a564dcc827c0dfb0e97d122",
            "fa7805922caf41959c2e4fc3cd9f6aae",
            "e8673a49eb1c4848aaf786fad5f6ad58",
            "0e632bc76ee34f8da1319127bc8c1330",
            "6c0d83347f7e40e09430158e7dd1eb29",
            "2045abe0533648b79b3762e061f16e66",
            "60b0e08820d748a09dd37f602643246e",
            "9151beaaa29844869a9610454526188b",
            "396867e25a1f4d9eb9b5a4aff2248db5",
            "634aca10f99e4da5a9310efbb6461706"
          ]
        },
        "outputId": "e6e4cad4-42bf-497c-8755-d37442f60994"
      },
      "execution_count": 26,
      "outputs": [
        {
          "output_type": "display_data",
          "data": {
            "text/plain": [
              "  0%|          | 0/3 [00:00<?, ?it/s]"
            ],
            "application/vnd.jupyter.widget-view+json": {
              "version_major": 2,
              "version_minor": 0,
              "model_id": "61934a557bb543f0a2c3ef5d8f3e81e7"
            }
          },
          "metadata": {}
        },
        {
          "output_type": "stream",
          "name": "stdout",
          "text": [
            "Epoch: 0\n",
            "---------\n",
            "Train loss :  0.9825, Train_acc:  65.06%\n",
            "Test loss:  0.7606, Test acc:  72.80%\n",
            "Train time on cuda is  14.812 seconds\n",
            "Epoch: 1\n",
            "---------\n",
            "Train loss :  0.7037, Train_acc:  74.48%\n",
            "Test loss:  0.7173, Test acc:  73.67%\n",
            "Train time on cuda is  27.227 seconds\n",
            "Epoch: 2\n",
            "---------\n",
            "Train loss :  0.6738, Train_acc:  75.31%\n",
            "Test loss:  0.6917, Test acc:  74.81%\n",
            "Train time on cuda is  38.654 seconds\n"
          ]
        }
      ]
    },
    {
      "cell_type": "markdown",
      "source": [
        "### Evaluate the model"
      ],
      "metadata": {
        "id": "LOKsgYflsUil"
      }
    },
    {
      "cell_type": "code",
      "source": [
        "eval_mode(model=model_1,dataloader=test_dataloader,\n",
        "          loss_fn=loss_fn,accuracy_fn=accuracy_fn)"
      ],
      "metadata": {
        "colab": {
          "base_uri": "https://localhost:8080/"
        },
        "id": "kirUV3EJqBl1",
        "outputId": "ed232cb7-c321-47ec-f0d1-7a78bf270b4a"
      },
      "execution_count": 27,
      "outputs": [
        {
          "output_type": "execute_result",
          "data": {
            "text/plain": [
              "{'model': 'FashionMNISTModelV1',\n",
              " 'model_loss': 0.6917039752006531,\n",
              " 'accuracy': 74.810303514377}"
            ]
          },
          "metadata": {},
          "execution_count": 27
        }
      ]
    },
    {
      "cell_type": "code",
      "source": [
        "model_0_results"
      ],
      "metadata": {
        "colab": {
          "base_uri": "https://localhost:8080/"
        },
        "id": "ACdVG0uosi-U",
        "outputId": "6f382d2c-e748-4d15-877b-20e433663b39"
      },
      "execution_count": 28,
      "outputs": [
        {
          "output_type": "execute_result",
          "data": {
            "text/plain": [
              "{'model': 'FashionMNISTModelV0',\n",
              " 'model_loss': 0.47895535826683044,\n",
              " 'accuracy': 83.38658146964856}"
            ]
          },
          "metadata": {},
          "execution_count": 28
        }
      ]
    },
    {
      "cell_type": "markdown",
      "source": [
        "## Building the **Convolution Neural Network**\n",
        "#### Structure of the neural nework\n",
        "`Input layer -> [Convolutional layer -> activation layer -> pooling layer] -> Output layer`"
      ],
      "metadata": {
        "id": "xyE6--fG6sIh"
      }
    },
    {
      "cell_type": "code",
      "source": [
        "import torch\n",
        "from torch import nn"
      ],
      "metadata": {
        "id": "W5nhf8T2ADDg"
      },
      "execution_count": 29,
      "outputs": []
    },
    {
      "cell_type": "code",
      "source": [
        "## Create the convolutional network\n",
        "class FashionMNISTModelV3(nn.Module):\n",
        "  def __init__(self,input_shape: int,hidden_units: int,output_shape: int):\n",
        "    super().__init__()\n",
        "    self.block_1 = nn.Sequential(\n",
        "        nn.Conv2d(in_channels=input_shape,\n",
        "                  out_channels=hidden_units,\n",
        "                  kernel_size=3,\n",
        "                  stride=1,\n",
        "                  padding=1),\n",
        "        nn.ReLU(),\n",
        "        nn.Conv2d(in_channels=hidden_units,\n",
        "                  out_channels=hidden_units,\n",
        "                  kernel_size=3,\n",
        "                  stride=1,\n",
        "                  padding=1),\n",
        "        nn.ReLU(),\n",
        "        nn.MaxPool2d(kernel_size=2,\n",
        "                     stride=2)\n",
        "    )\n",
        "\n",
        "    self.block_2=nn.Sequential(\n",
        "        nn.Conv2d(in_channels=hidden_units,\n",
        "                  out_channels=hidden_units,\n",
        "                  kernel_size=3,\n",
        "                  padding=1),\n",
        "        nn.ReLU(),\n",
        "        nn.Conv2d(in_channels=hidden_units,\n",
        "                  out_channels=hidden_units,\n",
        "                  kernel_size=3,\n",
        "                  padding=1),\n",
        "        nn.ReLU(),\n",
        "        nn.MaxPool2d(kernel_size=2)\n",
        "\n",
        "    )\n",
        "    self.classifier = nn.Sequential(\n",
        "        nn.Flatten(),\n",
        "        ###  Get to the root of why in_features size = hidden_units * 7 * 7\n",
        "        nn.Linear(in_features = hidden_units * 7 * 7,\n",
        "                  out_features = output_shape),\n",
        "    )\n",
        "  \n",
        "  def forward(self,x) -> torch.Tensor:\n",
        "    x= self.block_1(x)\n",
        "    #print(f'Output Shape after passing through block 2 : {x.shape}')\n",
        "    x= self.block_2(x)\n",
        "    #print(f'Output Shape after passing through block 2 : {x.shape}')\n",
        "    x = self.classifier(x)\n",
        "    return x\n",
        "\n",
        "torch.manual_seed(42)\n",
        "model_3 = FashionMNISTModelV3(input_shape=1,\n",
        "                              hidden_units=10, \n",
        "                              output_shape=len(class_names)).to(device)\n",
        "model_3                                                            \n",
        "\n",
        "  \n",
        "\n",
        "\n"
      ],
      "metadata": {
        "colab": {
          "base_uri": "https://localhost:8080/"
        },
        "id": "ASzXVSsot0nf",
        "outputId": "63a6e2c4-f06a-4077-dc73-06380480b53e"
      },
      "execution_count": 45,
      "outputs": [
        {
          "output_type": "execute_result",
          "data": {
            "text/plain": [
              "FashionMNISTModelV3(\n",
              "  (block_1): Sequential(\n",
              "    (0): Conv2d(1, 10, kernel_size=(3, 3), stride=(1, 1), padding=(1, 1))\n",
              "    (1): ReLU()\n",
              "    (2): Conv2d(10, 10, kernel_size=(3, 3), stride=(1, 1), padding=(1, 1))\n",
              "    (3): ReLU()\n",
              "    (4): MaxPool2d(kernel_size=2, stride=2, padding=0, dilation=1, ceil_mode=False)\n",
              "  )\n",
              "  (block_2): Sequential(\n",
              "    (0): Conv2d(10, 10, kernel_size=(3, 3), stride=(1, 1), padding=(1, 1))\n",
              "    (1): ReLU()\n",
              "    (2): Conv2d(10, 10, kernel_size=(3, 3), stride=(1, 1), padding=(1, 1))\n",
              "    (3): ReLU()\n",
              "    (4): MaxPool2d(kernel_size=2, stride=2, padding=0, dilation=1, ceil_mode=False)\n",
              "  )\n",
              "  (classifier): Sequential(\n",
              "    (0): Flatten(start_dim=1, end_dim=-1)\n",
              "    (1): Linear(in_features=490, out_features=10, bias=True)\n",
              "  )\n",
              ")"
            ]
          },
          "metadata": {},
          "execution_count": 45
        }
      ]
    },
    {
      "cell_type": "markdown",
      "source": [
        "### Toy data to learn the behaviour of `nn.Conv2d`"
      ],
      "metadata": {
        "id": "hlhrvfNuFW9P"
      }
    },
    {
      "cell_type": "code",
      "source": [
        "torch.manual_seed(42)\n",
        "## Random numbers with same size as image batch\n",
        "images = torch.rand(size=(32,3,64,64))\n",
        "single_image = images[0]\n",
        "print(f'Image batch shape = {images.shape} -> [batch_size,color_channel,height,width]')\n",
        "print(f'Single image shape = {single_image.shape} -> [ color_channel, height,width]')\n",
        "print(f\"Single image pixel values:\\n{single_image}\")"
      ],
      "metadata": {
        "colab": {
          "base_uri": "https://localhost:8080/"
        },
        "id": "zNaexgg3_0nc",
        "outputId": "76981816-8510-44eb-907c-677ee0f4c186"
      },
      "execution_count": 31,
      "outputs": [
        {
          "output_type": "stream",
          "name": "stdout",
          "text": [
            "Image batch shape = torch.Size([32, 3, 64, 64]) -> [batch_size,color_channel,height,width]\n",
            "Single image shape = torch.Size([3, 64, 64]) -> [ color_channel, height,width]\n",
            "Single image pixel values:\n",
            "tensor([[[0.8823, 0.9150, 0.3829,  ..., 0.1587, 0.6542, 0.3278],\n",
            "         [0.6532, 0.3958, 0.9147,  ..., 0.2083, 0.3289, 0.1054],\n",
            "         [0.9192, 0.4008, 0.9302,  ..., 0.5535, 0.4117, 0.3510],\n",
            "         ...,\n",
            "         [0.1457, 0.1499, 0.3298,  ..., 0.9624, 0.6400, 0.7409],\n",
            "         [0.1709, 0.5797, 0.6340,  ..., 0.6885, 0.2405, 0.5956],\n",
            "         [0.9199, 0.1247, 0.3573,  ..., 0.6752, 0.2058, 0.5027]],\n",
            "\n",
            "        [[0.1458, 0.9024, 0.9217,  ..., 0.1868, 0.6352, 0.8431],\n",
            "         [0.9549, 0.4435, 0.6924,  ..., 0.1168, 0.7160, 0.5462],\n",
            "         [0.1616, 0.1054, 0.8614,  ..., 0.4531, 0.4736, 0.9448],\n",
            "         ...,\n",
            "         [0.4309, 0.3986, 0.1907,  ..., 0.9444, 0.2848, 0.3776],\n",
            "         [0.7948, 0.6855, 0.1009,  ..., 0.6147, 0.7747, 0.2323],\n",
            "         [0.5840, 0.9795, 0.3277,  ..., 0.3549, 0.1263, 0.1280]],\n",
            "\n",
            "        [[0.5027, 0.4195, 0.8893,  ..., 0.3084, 0.1567, 0.7860],\n",
            "         [0.7310, 0.9307, 0.2847,  ..., 0.8432, 0.8307, 0.0897],\n",
            "         [0.7021, 0.5967, 0.7744,  ..., 0.8485, 0.4520, 0.0401],\n",
            "         ...,\n",
            "         [0.5440, 0.0679, 0.6577,  ..., 0.9948, 0.2791, 0.4142],\n",
            "         [0.5095, 0.1246, 0.1726,  ..., 0.0984, 0.3224, 0.3125],\n",
            "         [0.3612, 0.8706, 0.4751,  ..., 0.5368, 0.2389, 0.2095]]])\n"
          ]
        }
      ]
    },
    {
      "cell_type": "code",
      "source": [
        "### Lets create a conv layer\n",
        "conv_layer = nn.Conv2d(in_channels=3,\n",
        "                       out_channels=10,\n",
        "                       kernel_size=3,\n",
        "                       stride=1,\n",
        "                       padding=0)\n",
        "print(f'Single image shape = {single_image.shape} -> [ color_channel, height,width]')\n",
        "print(f'Shape after Conv Layer= {conv_layer(single_image).shape} -> [ color_channel, height,width]')\n"
      ],
      "metadata": {
        "colab": {
          "base_uri": "https://localhost:8080/"
        },
        "id": "JSNy3rGfGQ3f",
        "outputId": "63ce8aa7-de24-474d-b489-318a577cf9a4"
      },
      "execution_count": 32,
      "outputs": [
        {
          "output_type": "stream",
          "name": "stdout",
          "text": [
            "Single image shape = torch.Size([3, 64, 64]) -> [ color_channel, height,width]\n",
            "Shape after Conv Layer= torch.Size([10, 62, 62]) -> [ color_channel, height,width]\n"
          ]
        }
      ]
    },
    {
      "cell_type": "code",
      "source": [
        "### Lets create a conv layer\n",
        "conv_layer = nn.Conv2d(in_channels=3,\n",
        "                       out_channels=10,\n",
        "                       kernel_size=(5,5),\n",
        "                       stride=2,\n",
        "                       padding=0)\n",
        "print(f'Single image shape = {single_image.shape} -> [ color_channel, height,width]')\n",
        "print(f'Shape after Conv Layer= {conv_layer(single_image).shape} -> [ color_channel, height,width]')\n"
      ],
      "metadata": {
        "colab": {
          "base_uri": "https://localhost:8080/"
        },
        "id": "qiYeumwjGypL",
        "outputId": "f80f29fb-137d-4763-91b0-620f61199eff"
      },
      "execution_count": 33,
      "outputs": [
        {
          "output_type": "stream",
          "name": "stdout",
          "text": [
            "Single image shape = torch.Size([3, 64, 64]) -> [ color_channel, height,width]\n",
            "Shape after Conv Layer= torch.Size([10, 30, 30]) -> [ color_channel, height,width]\n"
          ]
        }
      ]
    },
    {
      "cell_type": "code",
      "source": [
        "conv_layer.state_dict()"
      ],
      "metadata": {
        "colab": {
          "base_uri": "https://localhost:8080/"
        },
        "id": "ac67RCVBHe8n",
        "outputId": "a2d31bf0-031d-4d4a-8341-ce480caa9bb4"
      },
      "execution_count": 34,
      "outputs": [
        {
          "output_type": "execute_result",
          "data": {
            "text/plain": [
              "OrderedDict([('weight',\n",
              "              tensor([[[[ 8.6644e-02,  7.4477e-02, -1.1213e-01, -5.8190e-02, -1.1435e-01],\n",
              "                        [ 6.2393e-02,  6.2068e-02,  5.4915e-02, -3.2403e-02,  7.4179e-02],\n",
              "                        [ 5.5348e-02, -3.0596e-02, -3.7606e-02,  6.9839e-03, -8.3805e-02],\n",
              "                        [-8.1205e-02, -3.4864e-02,  2.7452e-02, -7.6423e-02,  3.9710e-02],\n",
              "                        [ 5.3559e-02, -1.1397e-01,  1.1313e-02, -2.9998e-02,  5.2986e-03]],\n",
              "              \n",
              "                       [[-7.1268e-02,  4.0478e-02, -3.2422e-02, -1.0035e-01, -4.0299e-04],\n",
              "                        [-4.2190e-02,  2.6095e-02, -7.2488e-02,  8.8034e-02,  6.6542e-02],\n",
              "                        [ 1.0382e-01, -1.0599e-01,  8.8149e-02,  4.4779e-02, -1.4483e-02],\n",
              "                        [-5.4108e-02, -3.4084e-02,  8.5285e-02, -3.6738e-02, -4.1795e-02],\n",
              "                        [ 4.1912e-02,  3.0766e-02,  7.1335e-02,  9.9089e-02,  8.0400e-02]],\n",
              "              \n",
              "                       [[-1.2555e-02,  6.9881e-02,  4.8520e-02, -5.9017e-02, -7.5712e-03],\n",
              "                        [-5.7614e-02, -4.6001e-02, -6.0975e-02,  8.0039e-02, -9.9635e-03],\n",
              "                        [ 2.0718e-03, -1.1458e-01, -9.1451e-02,  1.1009e-01,  1.2389e-02],\n",
              "                        [-8.7687e-02, -2.3312e-02,  1.7945e-02,  6.0015e-02, -5.5139e-02],\n",
              "                        [ 2.3314e-02,  8.9796e-02,  7.3338e-02, -7.5802e-02, -8.7671e-03]]],\n",
              "              \n",
              "              \n",
              "                      [[[ 9.9547e-02,  3.2966e-02,  1.1423e-01, -1.1481e-01,  5.5088e-02],\n",
              "                        [ 7.3684e-02, -2.3163e-02, -3.0956e-02,  3.0142e-02,  8.4803e-02],\n",
              "                        [ 4.2120e-03,  2.9375e-02, -5.0304e-02, -2.3389e-03, -6.2665e-02],\n",
              "                        [-9.1512e-02, -1.7664e-03,  1.2940e-02,  6.6621e-02, -9.9723e-02],\n",
              "                        [ 8.6579e-02, -1.0642e-01,  3.2716e-02, -4.7782e-02,  8.7049e-02]],\n",
              "              \n",
              "                       [[ 6.5408e-02,  2.3627e-02, -8.2659e-02,  6.6235e-02,  5.5040e-02],\n",
              "                        [ 4.4735e-02,  4.8789e-02, -5.6095e-02, -2.3372e-02,  7.0549e-02],\n",
              "                        [ 1.0534e-01, -8.0757e-02, -9.3076e-02,  1.0882e-01,  1.5318e-02],\n",
              "                        [ 5.3255e-02, -4.6138e-02,  9.7976e-02, -9.9236e-02, -6.7731e-02],\n",
              "                        [-8.4089e-02,  8.8340e-03,  5.0239e-02, -6.4909e-02, -7.2772e-02]],\n",
              "              \n",
              "                       [[ 9.2711e-02, -4.0581e-02,  8.4404e-02, -6.8781e-02,  3.6517e-02],\n",
              "                        [ 4.1973e-02, -3.6268e-02,  4.2349e-02, -6.2281e-02, -8.5041e-02],\n",
              "                        [-2.8485e-03,  1.0918e-01, -9.9840e-02, -7.5032e-02,  2.3143e-02],\n",
              "                        [-1.0822e-01,  4.3653e-02, -5.1418e-02, -9.1933e-02,  7.4792e-02],\n",
              "                        [-5.0200e-02,  7.8120e-02, -8.1415e-02, -1.1439e-01, -1.7241e-02]]],\n",
              "              \n",
              "              \n",
              "                      [[[ 3.8563e-04, -2.0379e-02,  8.9234e-02,  8.9022e-02,  3.7138e-02],\n",
              "                        [-8.3230e-02, -4.5423e-02, -1.6779e-02, -8.6254e-02,  5.7987e-02],\n",
              "                        [ 7.1785e-02,  6.3236e-02,  4.1846e-03, -5.9134e-02,  5.9636e-02],\n",
              "                        [-8.6809e-02, -3.0326e-02,  8.3157e-03, -7.5237e-02, -2.3920e-02],\n",
              "                        [ 8.9705e-02,  4.2324e-03,  2.5451e-02, -9.9311e-02, -2.8757e-02]],\n",
              "              \n",
              "                       [[ 5.4673e-02,  1.0163e-01,  8.4073e-02, -1.4550e-03,  8.3329e-02],\n",
              "                        [ 5.7600e-02, -7.5441e-02, -1.4026e-02,  8.3270e-02,  8.7158e-02],\n",
              "                        [-6.8241e-02, -7.3873e-02, -2.4363e-02,  2.8979e-02,  1.0731e-01],\n",
              "                        [-1.0795e-01, -8.4570e-02, -9.5051e-03,  7.7701e-02, -2.6852e-02],\n",
              "                        [-6.0756e-02,  6.3195e-03, -1.1848e-02,  5.3271e-02,  6.7403e-03]],\n",
              "              \n",
              "                       [[ 3.0737e-02, -1.0566e-03,  1.8376e-02,  5.5031e-02,  6.9318e-02],\n",
              "                        [-1.1319e-01,  5.0689e-02, -7.6093e-02, -1.0690e-01,  4.4294e-02],\n",
              "                        [-4.2306e-02,  5.6648e-02, -1.0012e-01,  6.8952e-02, -9.0100e-02],\n",
              "                        [ 2.7300e-02,  2.3586e-02,  9.2690e-02, -1.0568e-01,  9.3963e-02],\n",
              "                        [ 7.6689e-02,  2.3938e-03, -1.1266e-01,  3.4787e-02, -4.5926e-02]]],\n",
              "              \n",
              "              \n",
              "                      [[[ 5.1927e-02,  2.6249e-02, -9.1862e-02,  2.2574e-02,  7.8656e-02],\n",
              "                        [ 5.0902e-02,  2.1636e-02,  3.5418e-02, -4.6012e-02, -4.2163e-02],\n",
              "                        [-9.2026e-02,  4.9657e-03, -4.7810e-02,  5.9508e-02, -9.1319e-02],\n",
              "                        [-6.9227e-02,  4.2955e-03, -2.4184e-02,  1.6570e-02, -1.4574e-02],\n",
              "                        [-6.6571e-02,  6.7060e-03, -3.9617e-02, -3.2857e-02,  9.0070e-02]],\n",
              "              \n",
              "                       [[-4.8188e-03,  8.5488e-02,  9.0505e-02,  1.1213e-01, -7.1390e-02],\n",
              "                        [ 6.2615e-03, -6.1930e-02,  1.1025e-01,  7.5540e-02, -1.1094e-01],\n",
              "                        [ 3.8754e-02,  7.2068e-03,  8.5938e-03, -2.1226e-02,  3.9669e-02],\n",
              "                        [-1.0920e-01, -8.0400e-02, -9.8808e-02,  1.1315e-01,  3.0874e-02],\n",
              "                        [-1.8025e-02, -6.5990e-02,  8.5654e-03,  3.3489e-03, -6.6101e-02]],\n",
              "              \n",
              "                       [[ 2.7714e-02,  3.5171e-02, -2.3873e-02, -2.0748e-02,  4.7140e-02],\n",
              "                        [ 1.0823e-01,  8.8044e-02, -9.0472e-02,  8.3107e-02, -1.1173e-01],\n",
              "                        [ 4.4627e-02, -5.5750e-02, -3.9531e-02,  1.0143e-01,  2.0188e-02],\n",
              "                        [ 5.2108e-02,  5.1722e-02, -1.5288e-02,  9.0480e-02, -6.5004e-02],\n",
              "                        [-9.5868e-02, -1.0696e-02,  8.3341e-02,  1.1325e-01, -1.7584e-02]]],\n",
              "              \n",
              "              \n",
              "                      [[[-1.1328e-01,  2.1924e-02, -4.4284e-02, -9.1124e-02, -2.6753e-02],\n",
              "                        [-9.4687e-02,  2.3681e-03, -3.8089e-02,  8.0857e-02,  8.3449e-02],\n",
              "                        [ 8.2509e-02, -5.8569e-02, -7.1894e-02, -6.6402e-03,  1.1186e-02],\n",
              "                        [ 3.6164e-02,  2.5146e-03, -1.8735e-02, -1.6342e-02, -1.0839e-01],\n",
              "                        [-8.7244e-02,  7.3388e-02,  1.1526e-02,  1.1167e-01, -1.0974e-01]],\n",
              "              \n",
              "                       [[-3.5692e-02,  5.3695e-02,  3.2965e-02, -1.9150e-02,  1.1174e-01],\n",
              "                        [-4.3495e-02, -9.4314e-02,  1.0579e-01,  1.1001e-01, -6.4056e-02],\n",
              "                        [ 2.6813e-02,  1.1864e-02, -1.0338e-01,  3.1557e-02, -1.1432e-01],\n",
              "                        [ 9.6227e-02,  9.0292e-02, -1.6045e-02, -9.8207e-02, -7.8173e-02],\n",
              "                        [ 3.6619e-02,  3.5953e-02, -3.8228e-02,  1.0625e-01,  2.0499e-02]],\n",
              "              \n",
              "                       [[-2.2795e-03,  4.0721e-02,  9.1123e-02, -6.7280e-02, -2.3558e-02],\n",
              "                        [ 1.0434e-01,  1.0978e-03, -7.0911e-02,  1.0678e-01, -8.8918e-02],\n",
              "                        [-3.5391e-02, -9.9725e-02, -1.0413e-01, -1.4536e-02,  9.7804e-02],\n",
              "                        [ 7.8210e-02, -7.9679e-02, -6.2552e-02,  7.2886e-02,  2.0375e-03],\n",
              "                        [-1.0285e-01,  4.2493e-02, -1.7062e-03,  9.1288e-02, -1.1325e-01]]],\n",
              "              \n",
              "              \n",
              "                      [[[ 6.4703e-02, -6.8041e-02, -7.5985e-02,  9.8301e-02, -2.4086e-02],\n",
              "                        [-1.1517e-01, -6.0830e-02,  5.3733e-02,  5.0616e-02, -1.1538e-01],\n",
              "                        [-2.2119e-02, -3.1038e-02,  9.7365e-02,  1.1449e-01, -1.0625e-01],\n",
              "                        [-1.0725e-01, -6.6254e-02, -3.4831e-02,  4.9197e-02, -5.9319e-02],\n",
              "                        [-8.9041e-03,  6.1288e-02, -7.1470e-02,  5.1569e-02, -8.3273e-02]],\n",
              "              \n",
              "                       [[ 5.3503e-02, -3.6872e-02, -9.7790e-02,  9.4142e-02, -4.1646e-02],\n",
              "                        [ 4.9211e-02,  1.1474e-01, -5.6331e-02, -1.9255e-02, -6.6156e-02],\n",
              "                        [ 5.4024e-02, -9.7754e-02,  6.7597e-02, -4.0184e-02,  1.2627e-02],\n",
              "                        [-1.8311e-02, -8.7023e-02,  7.2951e-02,  6.4474e-02, -7.9350e-02],\n",
              "                        [ 3.4211e-02,  3.4485e-02,  5.5793e-02, -9.9530e-02,  1.6404e-02]],\n",
              "              \n",
              "                       [[ 1.4024e-02,  1.0006e-01,  4.2898e-02, -1.0168e-01,  1.0869e-01],\n",
              "                        [ 6.8978e-02,  3.7725e-02, -8.0599e-02,  3.5439e-02, -4.5300e-02],\n",
              "                        [ 8.4968e-02,  1.1155e-01, -3.5315e-02, -3.3537e-02,  1.0033e-01],\n",
              "                        [-3.3594e-02,  3.3655e-03, -9.6157e-02,  1.0461e-01,  5.0281e-02],\n",
              "                        [ 1.0931e-01, -3.5895e-02,  6.4712e-02,  1.1146e-01,  3.2443e-02]]],\n",
              "              \n",
              "              \n",
              "                      [[[ 8.4128e-02,  3.1270e-02, -4.9913e-02, -9.0262e-03, -8.8088e-02],\n",
              "                        [ 4.4435e-02,  4.3638e-02,  1.0220e-01,  1.1059e-01, -4.6260e-02],\n",
              "                        [-6.4065e-02,  8.3120e-02, -1.0962e-01, -9.9295e-02,  8.5113e-02],\n",
              "                        [-8.7910e-02,  6.8047e-02,  1.3884e-02,  4.4956e-02,  2.8417e-02],\n",
              "                        [-9.7352e-02, -3.5091e-02, -6.1260e-02,  8.9085e-02,  4.0608e-03]],\n",
              "              \n",
              "                       [[ 4.9347e-02, -3.3197e-02,  8.1775e-02,  8.2737e-02, -3.9442e-02],\n",
              "                        [ 9.9482e-02, -4.6519e-02,  7.7571e-02, -6.2158e-02, -2.3001e-02],\n",
              "                        [-1.0128e-01,  4.5990e-02, -7.0671e-02, -1.0183e-01, -1.1045e-01],\n",
              "                        [-9.7558e-02, -1.0805e-01, -6.0906e-02, -8.4580e-03, -7.0961e-02],\n",
              "                        [ 7.9968e-02,  2.0348e-02, -6.9923e-02, -6.2612e-02, -5.2953e-02]],\n",
              "              \n",
              "                       [[-7.0515e-02,  1.0577e-02, -3.3109e-02, -1.0853e-01,  5.6153e-03],\n",
              "                        [-8.5237e-02, -6.0464e-03,  6.0233e-02, -1.0846e-01, -1.1045e-01],\n",
              "                        [-8.3457e-02, -8.0101e-02, -5.8207e-02,  3.7671e-02, -6.4134e-02],\n",
              "                        [ 1.1016e-01,  9.2160e-02, -3.8043e-02, -3.1954e-02, -1.2570e-02],\n",
              "                        [ 1.1226e-01, -3.0708e-02,  1.1166e-01, -1.0664e-01,  6.9455e-02]]],\n",
              "              \n",
              "              \n",
              "                      [[[ 7.2383e-03, -5.7366e-02, -5.7704e-02, -6.4935e-02, -8.5137e-02],\n",
              "                        [ 5.0987e-02, -5.1171e-02,  3.2089e-02, -1.4154e-02,  3.4915e-02],\n",
              "                        [-1.2682e-02,  4.1580e-02, -4.1627e-02, -9.1188e-02,  5.6694e-02],\n",
              "                        [-5.0817e-02, -4.0542e-02, -9.0709e-02, -3.6640e-02,  1.1271e-01],\n",
              "                        [-2.8167e-02,  6.6081e-02, -2.8651e-02,  9.1342e-02,  1.7097e-03]],\n",
              "              \n",
              "                       [[ 6.8638e-02,  3.1704e-02, -6.8149e-02,  5.1969e-02, -8.0290e-02],\n",
              "                        [ 1.5762e-02, -9.1070e-02,  5.9804e-03,  7.0799e-02, -1.2680e-02],\n",
              "                        [ 1.5916e-02, -4.2476e-02,  9.8315e-02, -7.8793e-02,  2.1506e-02],\n",
              "                        [-9.1472e-02, -1.1011e-01,  2.2142e-03, -1.2156e-02,  5.9731e-02],\n",
              "                        [-4.9891e-02, -9.0777e-02, -2.4463e-02,  3.4405e-03, -8.6618e-02]],\n",
              "              \n",
              "                       [[ 1.0847e-01, -1.0066e-02, -5.6464e-02,  3.5376e-02, -3.9788e-02],\n",
              "                        [-4.4258e-02, -5.1243e-02,  9.6685e-02, -6.0275e-02,  1.0805e-01],\n",
              "                        [-9.1658e-02, -3.4365e-02, -3.0055e-03, -1.2485e-02,  5.5902e-02],\n",
              "                        [ 4.0956e-02, -4.9329e-02,  2.7343e-02, -5.6316e-02,  7.6425e-02],\n",
              "                        [-3.6461e-02,  1.0710e-01, -7.1140e-02,  2.2846e-02,  1.0554e-01]]],\n",
              "              \n",
              "              \n",
              "                      [[[-1.6538e-02, -8.3475e-02, -9.0406e-02, -6.0368e-02, -2.1720e-02],\n",
              "                        [ 3.7455e-02,  5.7930e-02,  2.4661e-02, -6.4312e-02,  4.4377e-02],\n",
              "                        [ 7.3273e-02,  1.0358e-01, -8.9133e-02,  1.1112e-01, -3.1684e-02],\n",
              "                        [-3.6769e-03,  6.6292e-02,  3.6894e-02,  9.9965e-03, -3.1485e-02],\n",
              "                        [-4.6352e-02, -9.2631e-02, -1.0018e-01, -1.0037e-01,  9.9159e-02]],\n",
              "              \n",
              "                       [[ 6.3873e-02, -5.4139e-02, -4.7500e-02,  1.1143e-01, -5.6549e-03],\n",
              "                        [ 7.2281e-02,  1.9755e-02, -3.0354e-02, -9.1022e-02, -4.8384e-02],\n",
              "                        [ 1.1539e-02,  6.5457e-02,  3.3998e-02, -1.0751e-02,  4.5569e-02],\n",
              "                        [-7.2207e-02, -5.0175e-03,  9.8549e-02,  1.0744e-01,  3.1642e-02],\n",
              "                        [ 2.6730e-02,  2.3062e-03, -3.5436e-02, -7.2076e-02, -4.5426e-03]],\n",
              "              \n",
              "                       [[ 9.4894e-02, -5.5602e-02,  7.3684e-02,  5.5009e-02, -7.9281e-02],\n",
              "                        [ 3.3524e-02, -1.8191e-02, -7.4182e-02, -3.8905e-02,  5.2653e-02],\n",
              "                        [-1.3586e-02,  5.2820e-03,  2.9392e-02,  1.1530e-01,  1.0732e-01],\n",
              "                        [-1.1464e-01, -1.1198e-02, -1.1366e-01,  1.3792e-02,  1.3255e-02],\n",
              "                        [-6.4194e-02, -9.5324e-02,  6.0532e-02, -8.6613e-02,  2.4604e-02]]],\n",
              "              \n",
              "              \n",
              "                      [[[ 3.8908e-02, -3.5263e-02, -1.0618e-01, -8.1851e-03, -1.9450e-03],\n",
              "                        [-3.2078e-02, -8.2956e-03,  8.4107e-02, -6.7189e-02,  1.4997e-02],\n",
              "                        [-5.2096e-02, -1.0376e-01,  6.8009e-03, -5.5849e-02, -1.1447e-01],\n",
              "                        [-3.7890e-02,  4.4333e-02, -3.7299e-02,  6.6566e-02, -5.9469e-02],\n",
              "                        [-1.2064e-02, -8.5435e-02,  1.0462e-01,  2.2576e-02,  8.4009e-02]],\n",
              "              \n",
              "                       [[-1.1406e-01, -5.5583e-02,  1.2100e-02,  5.8092e-02, -1.0087e-01],\n",
              "                        [ 6.5153e-02,  2.3062e-02, -4.9680e-02, -4.9676e-02,  1.7620e-02],\n",
              "                        [-2.2960e-05, -8.0211e-02, -1.0906e-01,  5.9821e-02, -6.5915e-02],\n",
              "                        [-6.8560e-02,  5.0982e-02, -7.5098e-02,  4.2918e-02,  5.9281e-02],\n",
              "                        [-2.2683e-02, -7.3018e-02,  7.9117e-02, -8.9366e-02,  4.3003e-02]],\n",
              "              \n",
              "                       [[-7.6090e-02, -6.4760e-02,  4.3673e-02, -1.0798e-01, -1.1207e-01],\n",
              "                        [-8.4810e-02,  8.0741e-02,  4.3391e-02, -3.2565e-02,  7.0381e-02],\n",
              "                        [ 1.0923e-01, -6.5106e-02,  4.5689e-03,  8.0629e-02, -6.0408e-02],\n",
              "                        [-4.4267e-02, -7.7099e-02, -7.0860e-02, -2.8023e-02, -1.5711e-02],\n",
              "                        [ 6.3058e-02,  8.7331e-02,  1.0336e-01, -4.3867e-03, -1.0286e-01]]]])),\n",
              "             ('bias',\n",
              "              tensor([ 0.0032, -0.0472, -0.0309,  0.0222, -0.0565,  0.0935, -0.0301,  0.0526,\n",
              "                       0.0185, -0.0898]))])"
            ]
          },
          "metadata": {},
          "execution_count": 34
        }
      ]
    },
    {
      "cell_type": "code",
      "source": [
        "print(f'Shape of Weights= {conv_layer.weight.shape}' )\n",
        "print(f'Shape of Bias= {conv_layer.bias.shape}')\n"
      ],
      "metadata": {
        "colab": {
          "base_uri": "https://localhost:8080/"
        },
        "id": "TXgYjIsUITm6",
        "outputId": "15c70c41-cbe0-4eef-ee60-0390b9860202"
      },
      "execution_count": 35,
      "outputs": [
        {
          "output_type": "stream",
          "name": "stdout",
          "text": [
            "Shape of Weights= torch.Size([10, 3, 5, 5])\n",
            "Shape of Bias= torch.Size([10])\n"
          ]
        }
      ]
    },
    {
      "cell_type": "markdown",
      "source": [
        "### Understand Effect of MaxPool2d"
      ],
      "metadata": {
        "id": "nt3vw1cPA21F"
      }
    },
    {
      "cell_type": "code",
      "source": [
        "## Random image tensor\n",
        "print(f' Shape of single image : {single_image.shape}')\n",
        "print(f' Shape of unsquezzed single image: {single_image.unsqueeze(dim=0).shape}')\n",
        "max_pool_layer = nn.MaxPool2d(kernel_size=2)\n",
        "image_thru_conv_layer = conv_layer(single_image.unsqueeze(dim=0))\n",
        "image_thru_conv_and_max_pool = max_pool_layer(image_thru_conv_layer)\n",
        "\n",
        "print(f' Shape of single image after passing through conv layer: {image_thru_conv_layer.shape}')\n",
        "print(f' Shape of single image after passing thr conv layer and max pool layer: {image_thru_conv_and_max_pool.shape}')\n"
      ],
      "metadata": {
        "colab": {
          "base_uri": "https://localhost:8080/"
        },
        "id": "a5NkFfPTIkuV",
        "outputId": "e145c73e-86be-4bfe-b302-ad82bc0748e0"
      },
      "execution_count": 36,
      "outputs": [
        {
          "output_type": "stream",
          "name": "stdout",
          "text": [
            " Shape of single image : torch.Size([3, 64, 64])\n",
            " Shape of unsquezzed single image: torch.Size([1, 3, 64, 64])\n",
            " Shape of single image after passing through conv layer: torch.Size([1, 10, 30, 30])\n",
            " Shape of single image after passing thr conv layer and max pool layer: torch.Size([1, 10, 15, 15])\n"
          ]
        }
      ]
    },
    {
      "cell_type": "markdown",
      "source": [
        "#### Small tensor max pool experiment"
      ],
      "metadata": {
        "id": "lSJRm2J_CT4d"
      }
    },
    {
      "cell_type": "code",
      "source": [
        "random_tensor = torch.randn(size=(1,1,2,2))\n",
        "print(f' random tensor {random_tensor}')\n",
        "print(f' Shape of random tensor {random_tensor.shape}')\n",
        "\n",
        "random_tensor_thru_max_pool = max_pool_layer(random_tensor)\n",
        "\n",
        "print(f'Shape of random tensor after passing through max pool : {random_tensor_thru_max_pool.shape}')\n",
        "print(f'Random tensor content after passing through max pool : {random_tensor_thru_max_pool}')"
      ],
      "metadata": {
        "colab": {
          "base_uri": "https://localhost:8080/"
        },
        "id": "ao9TxGGVCKX5",
        "outputId": "5dd7bfa4-4bf2-4609-bd5a-cc4490d54159"
      },
      "execution_count": 37,
      "outputs": [
        {
          "output_type": "stream",
          "name": "stdout",
          "text": [
            " random tensor tensor([[[[-0.3200,  0.8697],\n",
            "          [ 0.2385,  1.0487]]]])\n",
            " Shape of random tensor torch.Size([1, 1, 2, 2])\n",
            "Shape of random tensor after passing through max pool : torch.Size([1, 1, 1, 1])\n",
            "Random tensor content after passing through max pool : tensor([[[[1.0487]]]])\n"
          ]
        }
      ]
    },
    {
      "cell_type": "markdown",
      "source": [
        "#### Small tensor avg pool experiment"
      ],
      "metadata": {
        "id": "GKYPBs0XDzSI"
      }
    },
    {
      "cell_type": "code",
      "source": [
        "random_tensor = torch.randn(size=(1,1,2,2))\n",
        "print(f' random tensor {random_tensor}')\n",
        "print(f' Shape of random tensor {random_tensor.shape}')\n",
        "\n",
        "avg_pool_layer = nn.AvgPool2d(kernel_size=2)\n",
        "random_tensor_thru_avg_pool = avg_pool_layer(random_tensor)\n",
        "\n",
        "print(f'Shape of random tensor after passing through max pool : {random_tensor_thru_avg_pool.shape}')\n",
        "print(f'Random tensor content after passing through max pool : {random_tensor_thru_avg_pool}')"
      ],
      "metadata": {
        "colab": {
          "base_uri": "https://localhost:8080/"
        },
        "id": "iwwzihsxDEAu",
        "outputId": "9a30e761-f692-4c24-b639-c1fa233b133c"
      },
      "execution_count": 38,
      "outputs": [
        {
          "output_type": "stream",
          "name": "stdout",
          "text": [
            " random tensor tensor([[[[ 0.6190,  1.1283],\n",
            "          [-0.8875,  1.9835]]]])\n",
            " Shape of random tensor torch.Size([1, 1, 2, 2])\n",
            "Shape of random tensor after passing through max pool : torch.Size([1, 1, 1, 1])\n",
            "Random tensor content after passing through max pool : tensor([[[[0.7108]]]])\n"
          ]
        }
      ]
    },
    {
      "cell_type": "code",
      "source": [
        "(0.3424+0.0397-1.1558-0.2820)/4"
      ],
      "metadata": {
        "colab": {
          "base_uri": "https://localhost:8080/"
        },
        "id": "YZXog5rqECIB",
        "outputId": "3c1139a5-1472-4a14-eb6a-cd922a632476"
      },
      "execution_count": 39,
      "outputs": [
        {
          "output_type": "execute_result",
          "data": {
            "text/plain": [
              "-0.26392499999999997"
            ]
          },
          "metadata": {},
          "execution_count": 39
        }
      ]
    },
    {
      "cell_type": "markdown",
      "source": [
        "## Setting up the loss function and optimizer"
      ],
      "metadata": {
        "id": "ILP5i4H4Eeji"
      }
    },
    {
      "cell_type": "code",
      "source": [
        "loss_fn = nn.CrossEntropyLoss()\n",
        "optimizer = torch.optim.SGD(params=model_3.parameters(),lr=0.1)"
      ],
      "metadata": {
        "id": "YQNHxuf-ETWI"
      },
      "execution_count": 40,
      "outputs": []
    },
    {
      "cell_type": "code",
      "source": [
        "model_3"
      ],
      "metadata": {
        "colab": {
          "base_uri": "https://localhost:8080/"
        },
        "id": "xUr1sP0ZLrSg",
        "outputId": "4349ee0e-6752-4785-893a-5deb048ae22b"
      },
      "execution_count": 41,
      "outputs": [
        {
          "output_type": "execute_result",
          "data": {
            "text/plain": [
              "FashionMNISTModelV3(\n",
              "  (block_1): Sequential(\n",
              "    (0): Conv2d(1, 10, kernel_size=(3, 3), stride=(1, 1), padding=(1, 1))\n",
              "    (1): ReLU()\n",
              "    (2): Conv2d(10, 10, kernel_size=(3, 3), stride=(1, 1), padding=(1, 1))\n",
              "    (3): ReLU()\n",
              "    (4): MaxPool2d(kernel_size=2, stride=2, padding=0, dilation=1, ceil_mode=False)\n",
              "  )\n",
              "  (block_2): Sequential(\n",
              "    (0): Conv2d(10, 10, kernel_size=(3, 3), stride=(1, 1), padding=(1, 1))\n",
              "    (1): ReLU()\n",
              "    (2): Conv2d(10, 10, kernel_size=(3, 3), stride=(1, 1), padding=(1, 1))\n",
              "    (3): ReLU()\n",
              "    (4): MaxPool2d(kernel_size=2, stride=2, padding=0, dilation=1, ceil_mode=False)\n",
              "  )\n",
              "  (classifier): Sequential(\n",
              "    (0): Flatten(start_dim=1, end_dim=-1)\n",
              "    (1): Linear(in_features=490, out_features=10, bias=True)\n",
              "  )\n",
              ")"
            ]
          },
          "metadata": {},
          "execution_count": 41
        }
      ]
    },
    {
      "cell_type": "markdown",
      "source": [
        "### Train the CNN"
      ],
      "metadata": {
        "id": "ZM6K8N7MFOrC"
      }
    },
    {
      "cell_type": "code",
      "source": [
        "torch.manual_seed(42)\n",
        "\n",
        "from timeit import default_timer as timer\n",
        "train_time_start_model_3 = timer()\n",
        "\n",
        "epochs = 3\n",
        "\n",
        "for epoch in tqdm(range(epochs)):\n",
        "  print(f\"Epoch: {epoch}\\n---------\")\n",
        "  train_step(model=model_3,\n",
        "             dataloader=train_dataloader,\n",
        "             loss_fn = loss_fn,\n",
        "             optimizer= optimizer,\n",
        "             accuracy_fn=accuracy_fn,\n",
        "             device=device)\n",
        "  \n",
        "  test_step(model= model_3,\n",
        "            dataloader= test_dataloader,\n",
        "            loss_fn= loss_fn,\n",
        "            accuracy_fn= accuracy_fn,\n",
        "            device= device)\n",
        "  \n",
        "  train_time_end_model_3 = timer()\n",
        "  total_train_time_model_3 = print_training_time(start=train_time_start_model_3,\n",
        "                                                 end=train_time_end_model_3,\n",
        "                                                 device=device)\n",
        "\n"
      ],
      "metadata": {
        "colab": {
          "base_uri": "https://localhost:8080/",
          "height": 325,
          "referenced_widgets": [
            "31c3ee4cff9c4878a0b8206dbcb10b3a",
            "bd4d8dde76244d3c825b0ccec932109b",
            "f37ce74bef0e4dbc923c8c8d25b26659",
            "225fafd96237465dbe20e4cfa4e659b9",
            "d5faf47da0284df3b74405c1687b2f5d",
            "e068d0f159cf44b298618620a71115fd",
            "b66bfb93b6834f8f9e1937a021859df9",
            "87ef7947c41643768cbc858c8e02035f",
            "9d4851b0c5d14261b66806179ecc32d9",
            "993481b6b73345c69d24630015fd5760",
            "0f03c2b5a6194ef8a6259d0067fd4881"
          ]
        },
        "id": "zd8lXAyiFOZ2",
        "outputId": "2c902421-5667-4cd0-aef4-aa39bc3d018f"
      },
      "execution_count": 46,
      "outputs": [
        {
          "output_type": "display_data",
          "data": {
            "text/plain": [
              "  0%|          | 0/3 [00:00<?, ?it/s]"
            ],
            "application/vnd.jupyter.widget-view+json": {
              "version_major": 2,
              "version_minor": 0,
              "model_id": "31c3ee4cff9c4878a0b8206dbcb10b3a"
            }
          },
          "metadata": {}
        },
        {
          "output_type": "stream",
          "name": "stdout",
          "text": [
            "Epoch: 0\n",
            "---------\n",
            "Train loss :  2.3023, Train_acc:  10.00%\n",
            "Test loss:  2.3023, Test acc:  9.99%\n",
            "Train time on cuda is  13.142 seconds\n",
            "Epoch: 1\n",
            "---------\n",
            "Train loss :  2.3023, Train_acc:  10.00%\n",
            "Test loss:  2.3023, Test acc:  9.99%\n",
            "Train time on cuda is  27.406 seconds\n",
            "Epoch: 2\n",
            "---------\n",
            "Train loss :  2.3023, Train_acc:  10.00%\n",
            "Test loss:  2.3023, Test acc:  9.99%\n",
            "Train time on cuda is  41.186 seconds\n"
          ]
        }
      ]
    },
    {
      "cell_type": "code",
      "source": [],
      "metadata": {
        "id": "9eF6NKHzFMFu"
      },
      "execution_count": 42,
      "outputs": []
    }
  ]
}